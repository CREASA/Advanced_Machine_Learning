{
 "cells": [
  {
   "cell_type": "markdown",
   "id": "8646143f-834f-48f4-a5f7-8df25d54528f",
   "metadata": {},
   "source": [
    "# PS2\n",
    "## Name: Xinyu Chang"
   ]
  },
  {
   "cell_type": "code",
   "execution_count": 1,
   "id": "529e5ea8-a371-4263-9f2e-0310d6f64f01",
   "metadata": {},
   "outputs": [],
   "source": [
    "# Import the packages\n",
    "import pandas as pd\n",
    "import numpy as np\n",
    "import matplotlib.pyplot as plt\n",
    "import statsmodels.api as sm\n",
    "from sklearn.model_selection import train_test_split\n",
    "from sklearn.neighbors import KNeighborsClassifier\n",
    "from sklearn.metrics import accuracy_score\n",
    "from sklearn.tree import DecisionTreeClassifier\n",
    "from sklearn.ensemble import RandomForestClassifier"
   ]
  },
  {
   "cell_type": "markdown",
   "id": "461fbd1a-df33-4e61-9474-26a8ccf0b67b",
   "metadata": {},
   "source": [
    "## 1 A simple classification task"
   ]
  },
  {
   "cell_type": "markdown",
   "id": "90e65fb8-c305-4b04-9baf-1035857936d7",
   "metadata": {},
   "source": [
    "### 1.1 (1pt) Load the data. Find:"
   ]
  },
  {
   "cell_type": "markdown",
   "id": "ff1af1e9-9ff7-476b-8346-8924a8caf127",
   "metadata": {},
   "source": [
    "#### (a) the number of rows and columns"
   ]
  },
  {
   "cell_type": "code",
   "execution_count": 2,
   "id": "04d73725-d797-4093-9f9f-b38b605bad87",
   "metadata": {},
   "outputs": [
    {
     "data": {
      "text/plain": [
       "(245057, 4)"
      ]
     },
     "execution_count": 2,
     "metadata": {},
     "output_type": "execute_result"
    }
   ],
   "source": [
    "skin_df = pd.read_csv(\"skin-nonskin.csv\", sep=\"\\t\")\n",
    "skin_df.shape"
   ]
  },
  {
   "cell_type": "markdown",
   "id": "ca4e4ccf-30d5-48c0-be76-863a17ddf28e",
   "metadata": {},
   "source": [
    "There are 245057 rows and 4 columns."
   ]
  },
  {
   "cell_type": "markdown",
   "id": "247744a6-0765-4377-8802-eab9f3c35fe3",
   "metadata": {},
   "source": [
    "#### (b) print a few lines of data"
   ]
  },
  {
   "cell_type": "code",
   "execution_count": 3,
   "id": "69518c6d-3727-4422-862f-15c7d4394885",
   "metadata": {},
   "outputs": [
    {
     "data": {
      "text/html": [
       "<div>\n",
       "<style scoped>\n",
       "    .dataframe tbody tr th:only-of-type {\n",
       "        vertical-align: middle;\n",
       "    }\n",
       "\n",
       "    .dataframe tbody tr th {\n",
       "        vertical-align: top;\n",
       "    }\n",
       "\n",
       "    .dataframe thead th {\n",
       "        text-align: right;\n",
       "    }\n",
       "</style>\n",
       "<table border=\"1\" class=\"dataframe\">\n",
       "  <thead>\n",
       "    <tr style=\"text-align: right;\">\n",
       "      <th></th>\n",
       "      <th>B</th>\n",
       "      <th>G</th>\n",
       "      <th>R</th>\n",
       "      <th>Label</th>\n",
       "    </tr>\n",
       "  </thead>\n",
       "  <tbody>\n",
       "    <tr>\n",
       "      <th>0</th>\n",
       "      <td>74</td>\n",
       "      <td>85</td>\n",
       "      <td>123</td>\n",
       "      <td>1</td>\n",
       "    </tr>\n",
       "    <tr>\n",
       "      <th>1</th>\n",
       "      <td>73</td>\n",
       "      <td>84</td>\n",
       "      <td>122</td>\n",
       "      <td>1</td>\n",
       "    </tr>\n",
       "    <tr>\n",
       "      <th>2</th>\n",
       "      <td>72</td>\n",
       "      <td>83</td>\n",
       "      <td>121</td>\n",
       "      <td>1</td>\n",
       "    </tr>\n",
       "    <tr>\n",
       "      <th>3</th>\n",
       "      <td>70</td>\n",
       "      <td>81</td>\n",
       "      <td>119</td>\n",
       "      <td>1</td>\n",
       "    </tr>\n",
       "    <tr>\n",
       "      <th>4</th>\n",
       "      <td>70</td>\n",
       "      <td>81</td>\n",
       "      <td>119</td>\n",
       "      <td>1</td>\n",
       "    </tr>\n",
       "  </tbody>\n",
       "</table>\n",
       "</div>"
      ],
      "text/plain": [
       "    B   G    R  Label\n",
       "0  74  85  123      1\n",
       "1  73  84  122      1\n",
       "2  72  83  121      1\n",
       "3  70  81  119      1\n",
       "4  70  81  119      1"
      ]
     },
     "execution_count": 3,
     "metadata": {},
     "output_type": "execute_result"
    }
   ],
   "source": [
    "skin_df.head()"
   ]
  },
  {
   "cell_type": "markdown",
   "id": "b3c4075c-29e9-43a9-b147-7954247f90a3",
   "metadata": {},
   "source": [
    "#### (c) does it contain any missing values?"
   ]
  },
  {
   "cell_type": "code",
   "execution_count": 4,
   "id": "29af5a8e-06f3-47b3-9d6e-9c8137154455",
   "metadata": {},
   "outputs": [
    {
     "data": {
      "text/plain": [
       "B        0\n",
       "G        0\n",
       "R        0\n",
       "Label    0\n",
       "dtype: int64"
      ]
     },
     "execution_count": 4,
     "metadata": {},
     "output_type": "execute_result"
    }
   ],
   "source": [
    "skin_df.isnull().sum()"
   ]
  },
  {
   "cell_type": "markdown",
   "id": "b1be8150-aefe-455c-b1be-97769e267994",
   "metadata": {},
   "source": [
    "There are no missing values in the dataset."
   ]
  },
  {
   "cell_type": "markdown",
   "id": "64643200-92de-4379-9522-ec21d1b54e50",
   "metadata": {},
   "source": [
    "#### (d) what are maximum and minimum values for R, G, B?"
   ]
  },
  {
   "cell_type": "code",
   "execution_count": 5,
   "id": "e085a7e5-6bf5-49a3-9026-46589336d887",
   "metadata": {},
   "outputs": [
    {
     "data": {
      "text/plain": [
       "B        0\n",
       "G        0\n",
       "R        0\n",
       "Label    1\n",
       "dtype: int64"
      ]
     },
     "execution_count": 5,
     "metadata": {},
     "output_type": "execute_result"
    }
   ],
   "source": [
    "skin_df.min()"
   ]
  },
  {
   "cell_type": "code",
   "execution_count": 6,
   "id": "fff2c111-0694-45e5-98fd-2e5edb090d7e",
   "metadata": {},
   "outputs": [
    {
     "data": {
      "text/plain": [
       "B        255\n",
       "G        255\n",
       "R        255\n",
       "Label      2\n",
       "dtype: int64"
      ]
     },
     "execution_count": 6,
     "metadata": {},
     "output_type": "execute_result"
    }
   ],
   "source": [
    "skin_df.max()"
   ]
  },
  {
   "cell_type": "markdown",
   "id": "b2a7520b-609b-4f13-8ede-fab6a23f4fb4",
   "metadata": {},
   "source": [
    "Here are the maximum and minimum values for R, G, B:  \n",
    "R: Min = 0, Max = 255  \n",
    "G: Min = 0, Max = 255  \n",
    "B: Min = 0, Max = 255  "
   ]
  },
  {
   "cell_type": "markdown",
   "id": "f300e272-4543-450d-9407-e1dad07c04bc",
   "metadata": {},
   "source": [
    "#### (e) what are the possible labels?"
   ]
  },
  {
   "cell_type": "code",
   "execution_count": 7,
   "id": "bfb9a310-2934-46a6-9cbc-9d01458792c3",
   "metadata": {},
   "outputs": [
    {
     "data": {
      "text/plain": [
       "2    194198\n",
       "1     50859\n",
       "Name: Label, dtype: int64"
      ]
     },
     "execution_count": 7,
     "metadata": {},
     "output_type": "execute_result"
    }
   ],
   "source": [
    "skin_df.Label.value_counts()"
   ]
  },
  {
   "cell_type": "markdown",
   "id": "e538da84-3f4d-4357-8c6b-c5e8aefeffad",
   "metadata": {},
   "source": [
    "The possible labels are 1 and 2, where \"1\" indicates skin and \"2\" indicates non-skin."
   ]
  },
  {
   "cell_type": "markdown",
   "id": "c54a2497-0db2-4500-b8ac-bf208c7229b0",
   "metadata": {},
   "source": [
    "#### 1.1.2 (1pt) Note that the feature space here is about the same as “color space”, you have probably seen color selectors that work on such a color space. Here is the color selector of gimp:"
   ]
  },
  {
   "cell_type": "markdown",
   "id": "20420803-3358-41f1-9691-bb514f08dd02",
   "metadata": {},
   "source": [
    "#### (a) What is the dimensionality of the feature space?"
   ]
  },
  {
   "cell_type": "markdown",
   "id": "ab9f6c91-d29f-4f61-bd45-0d2c4f2d9dfc",
   "metadata": {},
   "source": [
    "The feature space, in the context of the RGB color space, is 3-dimensional(3D). Each color can be represented as a point in this space, where the three dimensions correspond to the intensity of the Red (R), Green (G), and Blue (B) components. "
   ]
  },
  {
   "cell_type": "markdown",
   "id": "5160e4b0-d86b-473f-92dc-e7e86d11da13",
   "metadata": {},
   "source": [
    "#### (b) In this feature space, does the class of feasible skin tones have a linear or non-linear boundary?"
   ]
  },
  {
   "cell_type": "markdown",
   "id": "99215f77-1aec-43c5-bdf4-5cb8ae5e0391",
   "metadata": {},
   "source": [
    "In the RGB color space, the boundary between skin and non-skin tones is typically **non-linear**. Skin tones varied greatly between individuals due to factors such as ethnicity, lighting conditions, and individual differences（more variance). Therefore, skin tones can occupy a large, irregular region within the RGB color space that cannot be accurately segregated from non-skin tones using a single straight line (linear boundary). Typically, more complex, nonlinear decision boundaries are required to accurately distinguish skin tones from other tones."
   ]
  },
  {
   "cell_type": "markdown",
   "id": "5b93e9ed-6b50-4a05-8c19-18ee7c6c766f",
   "metadata": {},
   "source": [
    "#### (c) Given the R,G,B values, is there any uncertainty if the given tone is a possible skin tone?"
   ]
  },
  {
   "cell_type": "markdown",
   "id": "c222c6dc-4b1d-42d6-a5ed-c55089946cff",
   "metadata": {},
   "source": [
    "In my perspective, the classification of skin tones, given the R, G, B values, stands for the **minimal to no uncertainty** due to the inherent principle that if a color possesses the potential to be a skin color, it should be unequivocally categorized as such. This viewpoint pivots on a broad, encompassing definition of skin tones in the RGB color space, ensuring that any color which could conceivably be identified as a skin tone, under any circumstance or variation, is indeed classified as one."
   ]
  },
  {
   "cell_type": "markdown",
   "id": "72540e01-0f3b-4e9d-b9c2-715a5195f055",
   "metadata": {},
   "source": [
    "#### 1.1.3 (1pt) What is the accuracy of a naive classifier that categorizes all samples as the majority class? "
   ]
  },
  {
   "cell_type": "code",
   "execution_count": 8,
   "id": "b6cab95e-1b06-4696-8056-adff92089bb4",
   "metadata": {},
   "outputs": [
    {
     "data": {
      "text/plain": [
       "0.7924605295910747"
      ]
     },
     "execution_count": 8,
     "metadata": {},
     "output_type": "execute_result"
    }
   ],
   "source": [
    "naive_accuracy = (skin_df['Label'] == skin_df['Label'].mode()[0]).mean()\n",
    "naive_accuracy"
   ]
  },
  {
   "cell_type": "markdown",
   "id": "1e199d8c-5e16-464f-9f20-59b4c0a4fbdc",
   "metadata": {},
   "source": [
    "The accuracy of a naive classifier that categorizes all samples as the majority class is 0.792"
   ]
  },
  {
   "cell_type": "markdown",
   "id": "f4d9e3e5-e848-4a1d-835a-284fa9f10fa1",
   "metadata": {},
   "source": [
    "#### 1.1.4 (1pt) Create the feature space X (the R, G, B values) and the target variable y (the labels). Split both X and y into training and validation sets (80% for training, 20% for testing)."
   ]
  },
  {
   "cell_type": "code",
   "execution_count": 9,
   "id": "53a2c5c4-e304-4d9e-83ec-0896c10b6eef",
   "metadata": {},
   "outputs": [
    {
     "data": {
      "text/plain": [
       "((196045, 3), (49012, 3))"
      ]
     },
     "execution_count": 9,
     "metadata": {},
     "output_type": "execute_result"
    }
   ],
   "source": [
    "X = skin_df[['R', 'G', 'B']].values\n",
    "y = skin_df['Label'].values\n",
    "# Split data into training and validation sets (80% training, 20% testing)\n",
    "X_train, X_test, y_train, y_test = train_test_split(X, y, test_size=0.2, random_state=42)\n",
    "X_train.shape, X_test.shape"
   ]
  },
  {
   "cell_type": "markdown",
   "id": "dcda2cfe-24bc-4fb1-9649-f42eccaf86b6",
   "metadata": {},
   "source": [
    "### 1.2 knn (1pt)"
   ]
  },
  {
   "cell_type": "markdown",
   "id": "10ba2cb1-725e-4326-953c-e1a3528c2d94",
   "metadata": {},
   "source": [
    "#### 1. Compute accuracy on both training and validation data by using knn."
   ]
  },
  {
   "cell_type": "code",
   "execution_count": 10,
   "id": "80e91d91-216c-413d-8bab-73f6f821edf8",
   "metadata": {},
   "outputs": [
    {
     "data": {
      "text/plain": [
       "(0.9996072330332322, 0.9994083081694279)"
      ]
     },
     "execution_count": 10,
     "metadata": {},
     "output_type": "execute_result"
    }
   ],
   "source": [
    "knn = KNeighborsClassifier(n_neighbors=5)\n",
    "knn.fit(X_train, y_train)\n",
    "\n",
    "y_train_pred = knn.predict(X_train)\n",
    "y_test_pred = knn.predict(X_test)\n",
    "\n",
    "accuracy_train = accuracy_score(y_train, y_train_pred)\n",
    "accuracy_test = accuracy_score(y_test, y_test_pred)\n",
    "\n",
    "accuracy_train, accuracy_test"
   ]
  },
  {
   "cell_type": "markdown",
   "id": "0912d54d-3ab3-4b92-a39d-6490df5a4dd4",
   "metadata": {},
   "source": [
    "The accuracy on training data is 0.9996 and the accuracy on the validation data is 0.9994."
   ]
  },
  {
   "cell_type": "markdown",
   "id": "9889102d-a0f4-43d6-bff7-4299708a2078",
   "metadata": {},
   "source": [
    "#### 2. How well does knn perform compared to the naive model above and why?"
   ]
  },
  {
   "cell_type": "markdown",
   "id": "13696697-fc51-46f7-aea4-2a0fc1196dc8",
   "metadata": {},
   "source": [
    "k-NN:  \n",
    "Training Accuracy: 0.9996  \n",
    "Validation Accuracy: 0.9994  \n",
    "\n",
    "Naive Model:  \n",
    "Accuracy: 0.7925  \n",
    "\n",
    "The knn model exhibits superior performance compared to the naïve model in terms of accuracy, hence highlighting the significance of including feature information, specifically the red (R), green (G), and blue (B) values, to enhance predictive outcomes. The knn algorithm, with its ability to establish non-linear decision boundaries, effectively captures the intricate patterns present in the feature space. The model's capacity to generalize effectively to unfamiliar data is reinforced by its strong performance on both the training and validation sets, hence increasing its practical utility."
   ]
  },
  {
   "cell_type": "markdown",
   "id": "e1995375-66c8-4872-96fa-b0f8c472f8d5",
   "metadata": {},
   "source": [
    "## 2 Decision trees (6 pts)"
   ]
  },
  {
   "cell_type": "markdown",
   "id": "b548da9b-6991-4495-991c-8b470d6436d3",
   "metadata": {},
   "source": [
    "#### 2.1 Maximum depth in decision tress"
   ]
  },
  {
   "cell_type": "code",
   "execution_count": 11,
   "id": "18bc1f2c-c23d-43cc-9b39-94b3762a0d28",
   "metadata": {},
   "outputs": [
    {
     "data": {
      "text/html": [
       "<div>\n",
       "<style scoped>\n",
       "    .dataframe tbody tr th:only-of-type {\n",
       "        vertical-align: middle;\n",
       "    }\n",
       "\n",
       "    .dataframe tbody tr th {\n",
       "        vertical-align: top;\n",
       "    }\n",
       "\n",
       "    .dataframe thead th {\n",
       "        text-align: right;\n",
       "    }\n",
       "</style>\n",
       "<table border=\"1\" class=\"dataframe\">\n",
       "  <thead>\n",
       "    <tr style=\"text-align: right;\">\n",
       "      <th></th>\n",
       "      <th>loan_id</th>\n",
       "      <th>no_of_dependents</th>\n",
       "      <th>education</th>\n",
       "      <th>self_employed</th>\n",
       "      <th>income_annum</th>\n",
       "      <th>loan_amount</th>\n",
       "      <th>loan_term</th>\n",
       "      <th>cibil_score</th>\n",
       "      <th>residential_assets_value</th>\n",
       "      <th>commercial_assets_value</th>\n",
       "      <th>luxury_assets_value</th>\n",
       "      <th>bank_asset_value</th>\n",
       "      <th>loan_status</th>\n",
       "    </tr>\n",
       "  </thead>\n",
       "  <tbody>\n",
       "    <tr>\n",
       "      <th>0</th>\n",
       "      <td>1</td>\n",
       "      <td>2</td>\n",
       "      <td>Graduate</td>\n",
       "      <td>No</td>\n",
       "      <td>9600000</td>\n",
       "      <td>29900000</td>\n",
       "      <td>12</td>\n",
       "      <td>778</td>\n",
       "      <td>2400000</td>\n",
       "      <td>17600000</td>\n",
       "      <td>22700000</td>\n",
       "      <td>8000000</td>\n",
       "      <td>Approved</td>\n",
       "    </tr>\n",
       "    <tr>\n",
       "      <th>1</th>\n",
       "      <td>2</td>\n",
       "      <td>0</td>\n",
       "      <td>NotGraduate</td>\n",
       "      <td>Yes</td>\n",
       "      <td>4100000</td>\n",
       "      <td>12200000</td>\n",
       "      <td>8</td>\n",
       "      <td>417</td>\n",
       "      <td>2700000</td>\n",
       "      <td>2200000</td>\n",
       "      <td>8800000</td>\n",
       "      <td>3300000</td>\n",
       "      <td>Rejected</td>\n",
       "    </tr>\n",
       "    <tr>\n",
       "      <th>2</th>\n",
       "      <td>3</td>\n",
       "      <td>3</td>\n",
       "      <td>Graduate</td>\n",
       "      <td>No</td>\n",
       "      <td>9100000</td>\n",
       "      <td>29700000</td>\n",
       "      <td>20</td>\n",
       "      <td>506</td>\n",
       "      <td>7100000</td>\n",
       "      <td>4500000</td>\n",
       "      <td>33300000</td>\n",
       "      <td>12800000</td>\n",
       "      <td>Rejected</td>\n",
       "    </tr>\n",
       "    <tr>\n",
       "      <th>3</th>\n",
       "      <td>4</td>\n",
       "      <td>3</td>\n",
       "      <td>Graduate</td>\n",
       "      <td>No</td>\n",
       "      <td>8200000</td>\n",
       "      <td>30700000</td>\n",
       "      <td>8</td>\n",
       "      <td>467</td>\n",
       "      <td>18200000</td>\n",
       "      <td>3300000</td>\n",
       "      <td>23300000</td>\n",
       "      <td>7900000</td>\n",
       "      <td>Rejected</td>\n",
       "    </tr>\n",
       "    <tr>\n",
       "      <th>4</th>\n",
       "      <td>5</td>\n",
       "      <td>5</td>\n",
       "      <td>NotGraduate</td>\n",
       "      <td>Yes</td>\n",
       "      <td>9800000</td>\n",
       "      <td>24200000</td>\n",
       "      <td>20</td>\n",
       "      <td>382</td>\n",
       "      <td>12400000</td>\n",
       "      <td>8200000</td>\n",
       "      <td>29400000</td>\n",
       "      <td>5000000</td>\n",
       "      <td>Rejected</td>\n",
       "    </tr>\n",
       "  </tbody>\n",
       "</table>\n",
       "</div>"
      ],
      "text/plain": [
       "   loan_id  no_of_dependents    education self_employed  income_annum  \\\n",
       "0        1                 2     Graduate            No       9600000   \n",
       "1        2                 0  NotGraduate           Yes       4100000   \n",
       "2        3                 3     Graduate            No       9100000   \n",
       "3        4                 3     Graduate            No       8200000   \n",
       "4        5                 5  NotGraduate           Yes       9800000   \n",
       "\n",
       "   loan_amount  loan_term  cibil_score  residential_assets_value  \\\n",
       "0     29900000         12          778                   2400000   \n",
       "1     12200000          8          417                   2700000   \n",
       "2     29700000         20          506                   7100000   \n",
       "3     30700000          8          467                  18200000   \n",
       "4     24200000         20          382                  12400000   \n",
       "\n",
       "   commercial_assets_value  luxury_assets_value  bank_asset_value loan_status  \n",
       "0                 17600000             22700000           8000000    Approved  \n",
       "1                  2200000              8800000           3300000    Rejected  \n",
       "2                  4500000             33300000          12800000    Rejected  \n",
       "3                  3300000             23300000           7900000    Rejected  \n",
       "4                  8200000             29400000           5000000    Rejected  "
      ]
     },
     "execution_count": 11,
     "metadata": {},
     "output_type": "execute_result"
    }
   ],
   "source": [
    "loan_data = pd.read_csv('loan_approval_dataset.csv')\n",
    "loan_data.head()"
   ]
  },
  {
   "cell_type": "code",
   "execution_count": 12,
   "id": "641b0a29-2912-4fec-846d-104612ec2c49",
   "metadata": {},
   "outputs": [
    {
     "name": "stdout",
     "output_type": "stream",
     "text": [
      "     education self_employed loan_status\n",
      "0     Graduate            No    Approved\n",
      "1  NotGraduate           Yes    Rejected\n",
      "2     Graduate            No    Rejected\n",
      "3     Graduate            No    Rejected\n",
      "4  NotGraduate           Yes    Rejected\n"
     ]
    }
   ],
   "source": [
    "non_numeric_columns = loan_data.select_dtypes(include=['object'])\n",
    "print(non_numeric_columns.head())"
   ]
  },
  {
   "cell_type": "code",
   "execution_count": 13,
   "id": "dcda16a7-56e9-439c-bc3e-a3aa24bc8c38",
   "metadata": {},
   "outputs": [],
   "source": [
    "loan_data = loan_data.drop(columns=['loan_id'])"
   ]
  },
  {
   "cell_type": "code",
   "execution_count": 14,
   "id": "aeefb3d0-063a-4ee3-a6b9-35fe0752b797",
   "metadata": {},
   "outputs": [
    {
     "data": {
      "text/html": [
       "<div>\n",
       "<style scoped>\n",
       "    .dataframe tbody tr th:only-of-type {\n",
       "        vertical-align: middle;\n",
       "    }\n",
       "\n",
       "    .dataframe tbody tr th {\n",
       "        vertical-align: top;\n",
       "    }\n",
       "\n",
       "    .dataframe thead th {\n",
       "        text-align: right;\n",
       "    }\n",
       "</style>\n",
       "<table border=\"1\" class=\"dataframe\">\n",
       "  <thead>\n",
       "    <tr style=\"text-align: right;\">\n",
       "      <th></th>\n",
       "      <th>no_of_dependents</th>\n",
       "      <th>education</th>\n",
       "      <th>self_employed</th>\n",
       "      <th>income_annum</th>\n",
       "      <th>loan_amount</th>\n",
       "      <th>loan_term</th>\n",
       "      <th>cibil_score</th>\n",
       "      <th>residential_assets_value</th>\n",
       "      <th>commercial_assets_value</th>\n",
       "      <th>luxury_assets_value</th>\n",
       "      <th>bank_asset_value</th>\n",
       "      <th>loan_status</th>\n",
       "    </tr>\n",
       "  </thead>\n",
       "  <tbody>\n",
       "    <tr>\n",
       "      <th>0</th>\n",
       "      <td>2</td>\n",
       "      <td>0</td>\n",
       "      <td>0</td>\n",
       "      <td>9600000</td>\n",
       "      <td>29900000</td>\n",
       "      <td>12</td>\n",
       "      <td>778</td>\n",
       "      <td>2400000</td>\n",
       "      <td>17600000</td>\n",
       "      <td>22700000</td>\n",
       "      <td>8000000</td>\n",
       "      <td>0</td>\n",
       "    </tr>\n",
       "    <tr>\n",
       "      <th>1</th>\n",
       "      <td>0</td>\n",
       "      <td>1</td>\n",
       "      <td>1</td>\n",
       "      <td>4100000</td>\n",
       "      <td>12200000</td>\n",
       "      <td>8</td>\n",
       "      <td>417</td>\n",
       "      <td>2700000</td>\n",
       "      <td>2200000</td>\n",
       "      <td>8800000</td>\n",
       "      <td>3300000</td>\n",
       "      <td>1</td>\n",
       "    </tr>\n",
       "    <tr>\n",
       "      <th>2</th>\n",
       "      <td>3</td>\n",
       "      <td>0</td>\n",
       "      <td>0</td>\n",
       "      <td>9100000</td>\n",
       "      <td>29700000</td>\n",
       "      <td>20</td>\n",
       "      <td>506</td>\n",
       "      <td>7100000</td>\n",
       "      <td>4500000</td>\n",
       "      <td>33300000</td>\n",
       "      <td>12800000</td>\n",
       "      <td>1</td>\n",
       "    </tr>\n",
       "    <tr>\n",
       "      <th>3</th>\n",
       "      <td>3</td>\n",
       "      <td>0</td>\n",
       "      <td>0</td>\n",
       "      <td>8200000</td>\n",
       "      <td>30700000</td>\n",
       "      <td>8</td>\n",
       "      <td>467</td>\n",
       "      <td>18200000</td>\n",
       "      <td>3300000</td>\n",
       "      <td>23300000</td>\n",
       "      <td>7900000</td>\n",
       "      <td>1</td>\n",
       "    </tr>\n",
       "    <tr>\n",
       "      <th>4</th>\n",
       "      <td>5</td>\n",
       "      <td>1</td>\n",
       "      <td>1</td>\n",
       "      <td>9800000</td>\n",
       "      <td>24200000</td>\n",
       "      <td>20</td>\n",
       "      <td>382</td>\n",
       "      <td>12400000</td>\n",
       "      <td>8200000</td>\n",
       "      <td>29400000</td>\n",
       "      <td>5000000</td>\n",
       "      <td>1</td>\n",
       "    </tr>\n",
       "  </tbody>\n",
       "</table>\n",
       "</div>"
      ],
      "text/plain": [
       "   no_of_dependents  education  self_employed  income_annum  loan_amount  \\\n",
       "0                 2          0              0       9600000     29900000   \n",
       "1                 0          1              1       4100000     12200000   \n",
       "2                 3          0              0       9100000     29700000   \n",
       "3                 3          0              0       8200000     30700000   \n",
       "4                 5          1              1       9800000     24200000   \n",
       "\n",
       "   loan_term  cibil_score  residential_assets_value  commercial_assets_value  \\\n",
       "0         12          778                   2400000                 17600000   \n",
       "1          8          417                   2700000                  2200000   \n",
       "2         20          506                   7100000                  4500000   \n",
       "3          8          467                  18200000                  3300000   \n",
       "4         20          382                  12400000                  8200000   \n",
       "\n",
       "   luxury_assets_value  bank_asset_value  loan_status  \n",
       "0             22700000           8000000            0  \n",
       "1              8800000           3300000            1  \n",
       "2             33300000          12800000            1  \n",
       "3             23300000           7900000            1  \n",
       "4             29400000           5000000            1  "
      ]
     },
     "execution_count": 14,
     "metadata": {},
     "output_type": "execute_result"
    }
   ],
   "source": [
    "var0 = {\"education\": {\"Graduate\": 0, \"NotGraduate\": 1},\n",
    "        \"self_employed\": {\"No\": 0, \"Yes\": 1},\n",
    "        \"loan_status\": {\"Approved\": 0, \"Rejected\": 1}}\n",
    "loan_data = loan_data.replace(var0)\n",
    "loan_data.head()"
   ]
  },
  {
   "cell_type": "code",
   "execution_count": 15,
   "id": "29c0363c-7618-468c-a3e2-ebd6df0648f9",
   "metadata": {},
   "outputs": [],
   "source": [
    "X = loan_data.drop(columns=['loan_status'])\n",
    "y = loan_data['loan_status']"
   ]
  },
  {
   "cell_type": "code",
   "execution_count": 16,
   "id": "af6dddde-4828-4f4c-81a2-3c6acf32ecd0",
   "metadata": {},
   "outputs": [],
   "source": [
    "X_train, X_test, y_train, y_test = train_test_split(X, y, test_size=0.2, random_state=42)"
   ]
  },
  {
   "cell_type": "markdown",
   "id": "11c6aef8-2c2e-4b3f-a5b7-dc2298eda52d",
   "metadata": {},
   "source": [
    "#### 1. (0.5pt) What kind of decision boundary do you expect to see based on trees?"
   ]
  },
  {
   "cell_type": "markdown",
   "id": "b3630f1f-d1c6-41d1-9cd4-20f5424bf5b1",
   "metadata": {},
   "source": [
    "When utilizing decision trees in classification problems, we can typically anticipate decision boundaries that are axis-parallel and form a segmented, \"staircase\"-like structure in the feature space. This characteristic shape arises because decision trees create boundaries by successively splitting the data along feature axes, according to specific threshold values, to separate the classes in the training data. Each decision rule (or split) corresponds to a straight line that is perpendicular to one of the feature axes, and together, these lines create a series of **\"boxes\"** or **\"rectangles\"** in the feature space, each assigned to a particular class prediction. Consequently, decision boundaries in decision tree models are often **non-linear** and piecewise constant, adept at delineating complex structures in the data, yet they maintain a certain geometric simplicity due to their axis-parallel nature."
   ]
  },
  {
   "cell_type": "markdown",
   "id": "0afccaa2-73df-4494-a462-a715013a8063",
   "metadata": {},
   "source": [
    "#### 2. (0.5pt) Explain what the maximum depth parameter does. Do large or small values for maximum depth cause overfitting? (Hint: Check out sklearn’s documentation.)"
   ]
  },
  {
   "cell_type": "markdown",
   "id": "227b2dcb-1a39-4a5d-9115-292fecc45e8f",
   "metadata": {},
   "source": [
    "Maximum depth controls the maximum level of the tree. A large value of levels can create a complex model that captures noise in the data (potentially overfitting)."
   ]
  },
  {
   "cell_type": "markdown",
   "id": "44e91ea8-71c9-4806-8001-0d1ca0fa700e",
   "metadata": {},
   "source": [
    "#### 3. (1pt) Run a series of decision tree models of different maximum depth in a loop. Start with a small depth, and increase it into the overfitting territory so that the model starts overfitting. At each iteration, store both validation and training accuracy.Make a plot where you show how both training and validation accuracy depend on maximum depth. Try to make the graph so that the differences are easily visible. (Hint: Try plotting log(1−accuracy) instead of just accuracy.)"
   ]
  },
  {
   "cell_type": "code",
   "execution_count": 34,
   "id": "85cd2ad0-d2e8-4da9-aa9a-397a20b223c6",
   "metadata": {},
   "outputs": [
    {
     "name": "stdout",
     "output_type": "stream",
     "text": [
      "Max Depth: 1 Training Accuracy: 0.9528550512445095 Validation Accuracy: 0.9566744730679156\n",
      "Max Depth: 2 Training Accuracy: 0.9572474377745241 Validation Accuracy: 0.9590163934426229\n",
      "Max Depth: 3 Training Accuracy: 0.9642752562225476 Validation Accuracy: 0.9637002341920374\n",
      "Max Depth: 4 Training Accuracy: 0.9692532942898975 Validation Accuracy: 0.9672131147540983\n",
      "Max Depth: 5 Training Accuracy: 0.9756954612005857 Validation Accuracy: 0.968384074941452\n",
      "Max Depth: 6 Training Accuracy: 0.9830161054172767 Validation Accuracy: 0.9660421545667447\n",
      "Max Depth: 7 Training Accuracy: 0.9862371888726208 Validation Accuracy: 0.9672131147540983\n",
      "Max Depth: 8 Training Accuracy: 0.990922401171303 Validation Accuracy: 0.9695550351288056\n",
      "Max Depth: 9 Training Accuracy: 0.9929721815519765 Validation Accuracy: 0.9695550351288056\n",
      "Max Depth: 10 Training Accuracy: 0.9935578330893119 Validation Accuracy: 0.968384074941452\n",
      "Max Depth: 11 Training Accuracy: 0.99502196193265 Validation Accuracy: 0.9718969555035128\n",
      "Max Depth: 12 Training Accuracy: 0.9953147877013178 Validation Accuracy: 0.9718969555035128\n",
      "Max Depth: 13 Training Accuracy: 0.9979502196193265 Validation Accuracy: 0.9765807962529274\n",
      "Max Depth: 14 Training Accuracy: 0.9988286969253294 Validation Accuracy: 0.9754098360655737\n",
      "Max Depth: 15 Training Accuracy: 0.9994143484626647 Validation Accuracy: 0.9800936768149883\n",
      "Max Depth: 16 Training Accuracy: 1.0 Validation Accuracy: 0.977751756440281\n",
      "Max Depth: 17 Training Accuracy: 1.0 Validation Accuracy: 0.977751756440281\n",
      "Max Depth: 18 Training Accuracy: 1.0 Validation Accuracy: 0.977751756440281\n",
      "Max Depth: 19 Training Accuracy: 1.0 Validation Accuracy: 0.977751756440281\n"
     ]
    }
   ],
   "source": [
    "train_accuracy_ls = []\n",
    "val_accuracy_ls = []\n",
    "\n",
    "depths = range(1, 20)\n",
    "\n",
    "for depth in depths:\n",
    "    model = DecisionTreeClassifier(max_depth=depth, random_state=42)\n",
    "    model.fit(X_train, y_train)\n",
    "    \n",
    "    train_accuracy = accuracy_score(y_train, model.predict(X_train))\n",
    "    val_accuracy = accuracy_score(y_test, model.predict(X_test))\n",
    "    \n",
    "    train_accuracy_ls.append(train_accuracy)\n",
    "    val_accuracy_ls.append(val_accuracy)\n",
    "    print(\"Max Depth:\", depth, \"Training Accuracy:\", train_accuracy, \"Validation Accuracy:\", val_accuracy)"
   ]
  },
  {
   "cell_type": "code",
   "execution_count": 35,
   "id": "30b90f1f-0765-49a9-a6a0-c825d2b2c011",
   "metadata": {},
   "outputs": [
    {
     "name": "stderr",
     "output_type": "stream",
     "text": [
      "/var/folders/y2/67ym34px2bxdz48sjmytdq1m0000gn/T/ipykernel_71868/232626063.py:1: RuntimeWarning: divide by zero encountered in log\n",
      "  log_train_err = np.log(1 - np.array(train_accuracy_ls))\n"
     ]
    },
    {
     "data": {
      "image/png": "[encoded data removed]",
      "text/plain": [
       "<Figure size 432x288 with 1 Axes>"
      ]
     },
     "metadata": {
      "needs_background": "light"
     },
     "output_type": "display_data"
    }
   ],
   "source": [
    "log_train_err = np.log(1 - np.array(train_accuracy_ls))\n",
    "log_val_err = np.log(1 - np.array(val_accuracy_ls))\n",
    "\n",
    "plt.figure()\n",
    "plt.plot(depths, log_train_err, '-o', label='Training Log Error')\n",
    "plt.plot(depths, log_val_err, '-o', label='Validation Log Error')\n",
    "plt.title('Tree Depths for Training and Validation Log Errors')\n",
    "plt.xlabel('Max Depth')\n",
    "plt.ylabel('Log(1 - Accuracy)')\n",
    "plt.legend()\n",
    "plt.grid(True)\n",
    "plt.show()"
   ]
  },
  {
   "cell_type": "markdown",
   "id": "0644c0f6-5930-4afe-b7eb-d5edb342956c",
   "metadata": {},
   "source": [
    "The model starts overffiting from max depth equals to 16 and the training cccuracy is 1.0 and validation Accuracy is 0.977751756440281."
   ]
  },
  {
   "cell_type": "markdown",
   "id": "03c800c2-3f00-4bdb-aac3-9eaa987ea570",
   "metadata": {},
   "source": [
    "#### 4. (0.5pt) What is the best validation accuracy that you get? What is the corresponding maximum depth?"
   ]
  },
  {
   "cell_type": "code",
   "execution_count": 36,
   "id": "4b360408-2f7b-4cbe-8375-cd37508703b8",
   "metadata": {},
   "outputs": [
    {
     "name": "stdout",
     "output_type": "stream",
     "text": [
      "The best validation accuracy is: 0.9800936768149883 at max depth of 15\n"
     ]
    }
   ],
   "source": [
    "best_va_acc = max(val_accuracy_ls)\n",
    "best_depth = depths[val_accuracy_ls.index(best_va_acc)]\n",
    "print(\"The best validation accuracy is:\", best_va_acc, \"at max depth of\", best_depth)"
   ]
  },
  {
   "cell_type": "markdown",
   "id": "e9a451b6-0d19-4b3e-99d6-e94fa8f2a047",
   "metadata": {},
   "source": [
    "The best validation accuracy that I get is 0.9800936768149883 at max depth of 15."
   ]
  },
  {
   "cell_type": "markdown",
   "id": "34b51379-8732-4e98-95f8-50cda56d7275",
   "metadata": {},
   "source": [
    "#### 5. (0.5pt) Discuss your findings: where does the model start overfitting? What is the optimal depth?"
   ]
  },
  {
   "cell_type": "markdown",
   "id": "04a2ea9e-9c88-4895-8379-cded3acb2683",
   "metadata": {},
   "source": [
    "The model begins to show signs of overfitting around a Max Depth of 4. From the graph, we can observe that, after this point, the training log error consistently decreases, while the validation log error plateaus and even slightly rises. This divergence between training and validation performance is a hallmark of overfitting. Additionally, the output data corroborates this observation: after a Max Depth of 4, the training accuracy consistently approaches 1, indicating perfect fit to the training data, while the validation accuracy does not experience a corresponding, significant improvement.\n",
    "\n",
    "The optimal depth for this model appears to be around 15. At this depth, the validation accuracy reaches its peak(0.9800936768149883), as per the output data. Beyond this point, although the training accuracy reaches perfection (a value of 1), the validation accuracy does not show substantial improvement and even slightly drops, indicating that the model might not generalize well to new data beyond this depth."
   ]
  },
  {
   "cell_type": "markdown",
   "id": "442bebb3-b59c-4671-a782-03cf7a4c7cae",
   "metadata": {},
   "source": [
    "## 2.2 Minimum sample size to split (3pt) \n",
    "### Next, let’s repeat 1.3 with “min_sample_split”:"
   ]
  },
  {
   "cell_type": "markdown",
   "id": "63d02d99-d533-4e47-8174-b1cba62b49f0",
   "metadata": {},
   "source": [
    "#### 1. (0.5pt) Explain what the min_sample_split parameter does. Do large or small values lead to overfitting?"
   ]
  },
  {
   "cell_type": "markdown",
   "id": "d61f1a7b-5145-414a-945c-fbe3e6be3744",
   "metadata": {},
   "source": [
    "The min_samples_split parameter determines the smallest quantity of data points that must reside in a node for a potential split to be considered at that node during the tree-building process. When set to smaller values, the parameter allows the tree to create splits even in regions of the data that are sparsely populated, thereby enabling the model to adapt closely, perhaps too closely, to the training data. This heightened adaptability might allow the tree to model not only the underlying patterns but also the inherent noise within the training data, potentially leading to overfitting."
   ]
  },
  {
   "cell_type": "markdown",
   "id": "8a245e61-b05e-406b-9db0-89d8a6a0c22c",
   "metadata": {},
   "source": [
    "#### 2. (1pt) Run a series of decision tree models with different min_sample_split values in a loop. Try to cover both underfitting and overfitting. Each time store both validation and training accuracy. Make a plot where you show how both training and validation accuracy depend on the parameter."
   ]
  },
  {
   "cell_type": "code",
   "execution_count": 39,
   "id": "b694925e-c70a-4667-865f-effdfb5d8bb7",
   "metadata": {},
   "outputs": [
    {
     "name": "stdout",
     "output_type": "stream",
     "text": [
      "Min Samples Split: 2 Training Accuracy: 1.0 Validation Accuracy: 0.977751756440281\n",
      "Min Samples Split: 32 Training Accuracy: 0.9882869692532943 Validation Accuracy: 0.9707259953161592\n",
      "Min Samples Split: 62 Training Accuracy: 0.9850658857979502 Validation Accuracy: 0.9742388758782201\n",
      "Min Samples Split: 92 Training Accuracy: 0.9803806734992679 Validation Accuracy: 0.968384074941452\n",
      "Min Samples Split: 122 Training Accuracy: 0.9803806734992679 Validation Accuracy: 0.968384074941452\n",
      "Min Samples Split: 152 Training Accuracy: 0.9736456808199122 Validation Accuracy: 0.9707259953161592\n",
      "Min Samples Split: 182 Training Accuracy: 0.9736456808199122 Validation Accuracy: 0.9707259953161592\n",
      "Min Samples Split: 212 Training Accuracy: 0.9689604685212299 Validation Accuracy: 0.9672131147540983\n",
      "Min Samples Split: 242 Training Accuracy: 0.9689604685212299 Validation Accuracy: 0.9672131147540983\n",
      "Min Samples Split: 272 Training Accuracy: 0.96398243045388 Validation Accuracy: 0.9648711943793911\n",
      "Min Samples Split: 302 Training Accuracy: 0.9572474377745241 Validation Accuracy: 0.9590163934426229\n",
      "Min Samples Split: 332 Training Accuracy: 0.9572474377745241 Validation Accuracy: 0.9590163934426229\n",
      "Min Samples Split: 362 Training Accuracy: 0.9572474377745241 Validation Accuracy: 0.9590163934426229\n",
      "Min Samples Split: 392 Training Accuracy: 0.9572474377745241 Validation Accuracy: 0.9590163934426229\n",
      "Min Samples Split: 422 Training Accuracy: 0.9572474377745241 Validation Accuracy: 0.9590163934426229\n",
      "Min Samples Split: 452 Training Accuracy: 0.9572474377745241 Validation Accuracy: 0.9590163934426229\n",
      "Min Samples Split: 482 Training Accuracy: 0.9572474377745241 Validation Accuracy: 0.9590163934426229\n"
     ]
    }
   ],
   "source": [
    "min_samples_splits = range(2, 500, 30)\n",
    "train_acc = []\n",
    "val_acc = []\n",
    "\n",
    "for min_samples_split in min_samples_splits:\n",
    "    model = DecisionTreeClassifier(min_samples_split=min_samples_split)\n",
    "    model.fit(X_train, y_train)\n",
    "    \n",
    "    train_pred = model.predict(X_train)\n",
    "    val_pred = model.predict(X_test)\n",
    "    \n",
    "    train_acc.append(accuracy_score(y_train, train_pred))\n",
    "    val_acc.append(accuracy_score(y_test, val_pred))\n",
    "    \n",
    "    print(\"Min Samples Split:\", min_samples_split, \"Training Accuracy:\", train_acc[-1], \"Validation Accuracy:\", val_acc[-1])"
   ]
  },
  {
   "cell_type": "code",
   "execution_count": 40,
   "id": "20ada08a-c62a-45a2-a69e-ac4e7b2bd241",
   "metadata": {},
   "outputs": [
    {
     "data": {
      "image/png": "[encoded data removed]",
      "text/plain": [
       "<Figure size 432x288 with 1 Axes>"
      ]
     },
     "metadata": {
      "needs_background": "light"
     },
     "output_type": "display_data"
    }
   ],
   "source": [
    "plt.plot(min_samples_splits, train_acc, label='Training Accuracy')\n",
    "plt.plot(min_samples_splits, val_acc, label='Validation Accuracy')\n",
    "plt.xlabel('Min Samples Split')\n",
    "plt.ylabel('Accuracy')\n",
    "plt.legend()\n",
    "plt.title('Impact of min_samples_split on Accuracy')\n",
    "plt.show()"
   ]
  },
  {
   "cell_type": "markdown",
   "id": "985eedc1-8156-45c9-8850-79ded1b3bc74",
   "metadata": {},
   "source": [
    "#### 3. (0.5pt) What is the best validation accuracy you get? What is the corresponding min_sample_split?"
   ]
  },
  {
   "cell_type": "code",
   "execution_count": 42,
   "id": "c61c74a5-6bf7-4c89-8094-e288e3ab9ace",
   "metadata": {},
   "outputs": [
    {
     "name": "stdout",
     "output_type": "stream",
     "text": [
      "The best validation accuracy is: 0.977751756440281 at max depth of 2\n"
     ]
    }
   ],
   "source": [
    "best_val_acc = max(val_acc)\n",
    "corres_split = min_samples_splits[val_acc.index(best_val_acc)]\n",
    "print(\"The best validation accuracy is:\", best_val_acc, \"at max depth of\",corres_split)"
   ]
  },
  {
   "cell_type": "markdown",
   "id": "e677f780-2e51-4345-ac37-7d77de3aa2cf",
   "metadata": {},
   "source": [
    "#### 4. (0.5pt) Discuss your findings: where does the model start overfitting?"
   ]
  },
  {
   "cell_type": "markdown",
   "id": "d5dc6086-17d8-4e07-ae9f-38b452b62612",
   "metadata": {},
   "source": [
    "The model begins to show signs of overfitting at min_samples_split of 2, as evidenced by the gap between the training accuracy and validation accuracy. Specifically, at a min_samples_split of 2, the training accuracy is a perfect 1.0, while the validation accuracy is 0.977751756440281. This significant difference between training and validation accuracy suggests that the model may be too closely fitting to the nuances of the training data and not generalizing as well to unseen data."
   ]
  },
  {
   "cell_type": "markdown",
   "id": "e2da40d0-2962-4296-b336-dbf5b814b8dd",
   "metadata": {},
   "source": [
    "#### 5. (0.5pt) Write a double loop over both parameters. Try to pick a number of values not too different from what you found above when analyzing those individually. Store the best result and the respective parameters."
   ]
  },
  {
   "cell_type": "code",
   "execution_count": 45,
   "id": "c1b7f3f3-200c-42f7-b0a7-5a2be3400aa5",
   "metadata": {},
   "outputs": [
    {
     "name": "stdout",
     "output_type": "stream",
     "text": [
      "Max Depth: 1 Min Samples Split: 2 Training Accuracy: 0.9528550512445095 Validation Accuracy: 0.9566744730679156\n",
      "Max Depth: 1 Min Samples Split: 7 Training Accuracy: 0.9528550512445095 Validation Accuracy: 0.9566744730679156\n",
      "Max Depth: 2 Min Samples Split: 2 Training Accuracy: 0.9572474377745241 Validation Accuracy: 0.9590163934426229\n",
      "Max Depth: 2 Min Samples Split: 7 Training Accuracy: 0.9572474377745241 Validation Accuracy: 0.9590163934426229\n",
      "Max Depth: 3 Min Samples Split: 2 Training Accuracy: 0.9642752562225476 Validation Accuracy: 0.9637002341920374\n",
      "Max Depth: 3 Min Samples Split: 7 Training Accuracy: 0.9642752562225476 Validation Accuracy: 0.9637002341920374\n",
      "Max Depth: 4 Min Samples Split: 2 Training Accuracy: 0.9692532942898975 Validation Accuracy: 0.9672131147540983\n",
      "Max Depth: 4 Min Samples Split: 7 Training Accuracy: 0.9692532942898975 Validation Accuracy: 0.9660421545667447\n",
      "Max Depth: 5 Min Samples Split: 2 Training Accuracy: 0.9756954612005857 Validation Accuracy: 0.9707259953161592\n",
      "Max Depth: 5 Min Samples Split: 7 Training Accuracy: 0.9751098096632503 Validation Accuracy: 0.968384074941452\n",
      "Max Depth: 6 Min Samples Split: 2 Training Accuracy: 0.9830161054172767 Validation Accuracy: 0.9660421545667447\n",
      "Max Depth: 6 Min Samples Split: 7 Training Accuracy: 0.9824304538799414 Validation Accuracy: 0.9637002341920374\n",
      "Max Depth: 7 Min Samples Split: 2 Training Accuracy: 0.9862371888726208 Validation Accuracy: 0.9660421545667447\n",
      "Max Depth: 7 Min Samples Split: 7 Training Accuracy: 0.9853587115666179 Validation Accuracy: 0.9648711943793911\n",
      "Max Depth: 8 Min Samples Split: 2 Training Accuracy: 0.990922401171303 Validation Accuracy: 0.9672131147540983\n",
      "Max Depth: 8 Min Samples Split: 7 Training Accuracy: 0.9891654465592972 Validation Accuracy: 0.9695550351288056\n",
      "Max Depth: 9 Min Samples Split: 2 Training Accuracy: 0.9929721815519765 Validation Accuracy: 0.968384074941452\n",
      "Max Depth: 9 Min Samples Split: 7 Training Accuracy: 0.9903367496339678 Validation Accuracy: 0.9695550351288056\n",
      "Max Depth: 10 Min Samples Split: 2 Training Accuracy: 0.9935578330893119 Validation Accuracy: 0.968384074941452\n",
      "Max Depth: 10 Min Samples Split: 7 Training Accuracy: 0.9906295754026354 Validation Accuracy: 0.9695550351288056\n",
      "Max Depth: 11 Min Samples Split: 2 Training Accuracy: 0.99502196193265 Validation Accuracy: 0.9695550351288056\n",
      "Max Depth: 11 Min Samples Split: 7 Training Accuracy: 0.9920937042459737 Validation Accuracy: 0.9695550351288056\n",
      "Max Depth: 12 Min Samples Split: 2 Training Accuracy: 0.9953147877013178 Validation Accuracy: 0.9695550351288056\n",
      "Max Depth: 12 Min Samples Split: 7 Training Accuracy: 0.9923865300146413 Validation Accuracy: 0.9695550351288056\n",
      "Max Depth: 13 Min Samples Split: 2 Training Accuracy: 0.9973645680819913 Validation Accuracy: 0.9765807962529274\n",
      "Max Depth: 13 Min Samples Split: 7 Training Accuracy: 0.99502196193265 Validation Accuracy: 0.9789227166276346\n",
      "Max Depth: 14 Min Samples Split: 2 Training Accuracy: 0.9988286969253294 Validation Accuracy: 0.9789227166276346\n",
      "Max Depth: 14 Min Samples Split: 7 Training Accuracy: 0.995900439238653 Validation Accuracy: 0.977751756440281\n",
      "Max Depth: 15 Min Samples Split: 2 Training Accuracy: 0.9994143484626647 Validation Accuracy: 0.9765807962529274\n",
      "Max Depth: 15 Min Samples Split: 7 Training Accuracy: 0.9967789165446559 Validation Accuracy: 0.977751756440281\n",
      "\n",
      "Best Validation Accuracy: 0.9789227166276346 at Max Depth: 13 and Min Samples Split: 7\n"
     ]
    }
   ],
   "source": [
    "best_val_acc = 0  \n",
    "best_depth = None\n",
    "best_min_samples_split = None\n",
    "\n",
    "for max_depth in max_depths:\n",
    "    for min_samples_split in min_samples_splits:\n",
    "        model = DecisionTreeClassifier(max_depth=max_depth, min_samples_split=min_samples_split)\n",
    "        model.fit(X_train, y_train)\n",
    "\n",
    "        train_pred = model.predict(X_train)\n",
    "        val_pred = model.predict(X_test)\n",
    "\n",
    "        train_acc = accuracy_score(y_train, train_pred)\n",
    "        val_acc = accuracy_score(y_test, val_pred)\n",
    "\n",
    "        if val_acc > best_val_acc:\n",
    "            best_val_acc = val_acc\n",
    "            best_depth = max_depth\n",
    "            best_min_samples_split = min_samples_split\n",
    "        print(\"Max Depth:\", max_depth, \"Min Samples Split:\", min_samples_split, \"Training Accuracy:\", train_acc, \"Validation Accuracy:\", val_acc)\n",
    "print(\"\\nBest Validation Accuracy:\", best_val_acc, \"at Max Depth:\", best_depth, \"and Min Samples Split:\", best_min_samples_split)"
   ]
  },
  {
   "cell_type": "markdown",
   "id": "0e1ac8b3-bcec-4c56-a371-b91d53393956",
   "metadata": {},
   "source": [
    "### 3 Random forests (4 pts)\n",
    "### Now it is time to use random forests. Check out sklearn’s RandomForestClassifier.\n",
    "#### 1. (1pt) Explain what the n_estimators parameter does."
   ]
  },
  {
   "cell_type": "markdown",
   "id": "5e3c5bf6-6bae-48de-990e-0548a46d8857",
   "metadata": {},
   "source": [
    "The n_estimators refers to the number of trees in the forest. Essentially, it determines how many individual decision trees will be built in the random forest model. Each tree is built on a bootstrap sample (a random sample taken with replacement) of the training data, and during prediction, each tree in the forest \"votes\" to determine the final class prediction. Increasing the number of trees can increase the robustness and accuracy of the model, but it also increases computational cost and may lead to diminishing returns after a certain point."
   ]
  },
  {
   "cell_type": "markdown",
   "id": "ad4c9a46-76e0-489e-b987-261a7009e4b9",
   "metadata": {},
   "source": [
    "#### 2. (1pt) Run a series of random forest classifiers testing what is the best number of estimators. This may be slow, so you may want to skip quite a few potential values."
   ]
  },
  {
   "cell_type": "code",
   "execution_count": 24,
   "id": "b90c8fa4-9c54-4a4f-a1c2-89a93928c741",
   "metadata": {},
   "outputs": [
    {
     "name": "stdout",
     "output_type": "stream",
     "text": [
      "n_estimators: 1 Training Accuracy: 0.9824304538799414 Validation Accuracy: 0.936768149882904\n",
      "n_estimators: 6 Training Accuracy: 0.9973645680819913 Validation Accuracy: 0.9625292740046838\n",
      "n_estimators: 11 Training Accuracy: 0.9991215226939971 Validation Accuracy: 0.9730679156908665\n",
      "n_estimators: 16 Training Accuracy: 0.9994143484626647 Validation Accuracy: 0.9765807962529274\n",
      "n_estimators: 21 Training Accuracy: 1.0 Validation Accuracy: 0.9800936768149883\n",
      "n_estimators: 26 Training Accuracy: 0.9994143484626647 Validation Accuracy: 0.9765807962529274\n",
      "n_estimators: 31 Training Accuracy: 0.9997071742313324 Validation Accuracy: 0.977751756440281\n",
      "n_estimators: 36 Training Accuracy: 1.0 Validation Accuracy: 0.9765807962529274\n",
      "n_estimators: 41 Training Accuracy: 0.9997071742313324 Validation Accuracy: 0.9754098360655737\n",
      "n_estimators: 46 Training Accuracy: 0.9997071742313324 Validation Accuracy: 0.9754098360655737\n",
      "n_estimators: 51 Training Accuracy: 1.0 Validation Accuracy: 0.977751756440281\n",
      "n_estimators: 56 Training Accuracy: 1.0 Validation Accuracy: 0.9836065573770492\n",
      "n_estimators: 61 Training Accuracy: 0.9997071742313324 Validation Accuracy: 0.9836065573770492\n",
      "n_estimators: 66 Training Accuracy: 1.0 Validation Accuracy: 0.9789227166276346\n",
      "n_estimators: 71 Training Accuracy: 1.0 Validation Accuracy: 0.9824355971896955\n",
      "n_estimators: 76 Training Accuracy: 1.0 Validation Accuracy: 0.9789227166276346\n",
      "n_estimators: 81 Training Accuracy: 1.0 Validation Accuracy: 0.9812646370023419\n",
      "n_estimators: 86 Training Accuracy: 1.0 Validation Accuracy: 0.9754098360655737\n",
      "n_estimators: 91 Training Accuracy: 1.0 Validation Accuracy: 0.9789227166276346\n",
      "n_estimators: 96 Training Accuracy: 1.0 Validation Accuracy: 0.9800936768149883\n",
      "\n",
      "Best Validation Accuracy: 0.9836065573770492 with n_estimators: 56\n"
     ]
    }
   ],
   "source": [
    "n_estimators_values = range(1, 100, 5)\n",
    "train_acc = []\n",
    "val_acc = []\n",
    "\n",
    "best_val_acc = 0\n",
    "best_n_estimators = None\n",
    "\n",
    "for n_estimators in n_estimators_values:\n",
    "    model = RandomForestClassifier(n_estimators=n_estimators)\n",
    "    model.fit(X_train, y_train)\n",
    "    \n",
    "    train_pred = model.predict(X_train)\n",
    "    val_pred = model.predict(X_test)\n",
    "    \n",
    "    train_accuracy = accuracy_score(y_train, train_pred)\n",
    "    val_accuracy = accuracy_score(y_test, val_pred)\n",
    "    \n",
    "    train_acc.append(train_accuracy)\n",
    "    val_acc.append(val_accuracy)\n",
    "    \n",
    "    print(\"n_estimators:\", n_estimators, \"Training Accuracy:\", train_accuracy, \"Validation Accuracy:\", val_accuracy)\n",
    "    \n",
    "    if val_accuracy > best_val_acc:\n",
    "        best_val_acc = val_accuracy\n",
    "        best_n_estimators = n_estimators\n",
    "    \n",
    "print(\"\\nBest Validation Accuracy:\", best_val_acc, \"with n_estimators:\", best_n_estimators)"
   ]
  },
  {
   "cell_type": "markdown",
   "id": "11adfca7-a710-48b3-a4bf-19ff57e2052c",
   "metadata": {},
   "source": [
    "#### 3. (1pt) Make a plot where you show how both training and validation accuracy depend on the parameter. What is the best validation accuracy you get? "
   ]
  },
  {
   "cell_type": "code",
   "execution_count": 25,
   "id": "eddaa5e8-065d-4332-bb4d-3666eb8111fe",
   "metadata": {},
   "outputs": [
    {
     "data": {
      "image/png": "[encoded data removed]",
      "text/plain": [
       "<Figure size 432x288 with 1 Axes>"
      ]
     },
     "metadata": {
      "needs_background": "light"
     },
     "output_type": "display_data"
    },
    {
     "name": "stdout",
     "output_type": "stream",
     "text": [
      "Best Validation Accuracy:  0.9836065573770492  with  56  estimators\n"
     ]
    }
   ],
   "source": [
    "plt.plot(n_estimators_values, train_acc, label='Training Accuracy')\n",
    "plt.plot(n_estimators_values, val_acc, label='Validation Accuracy')\n",
    "plt.xlabel('Number of Estimators')\n",
    "plt.ylabel('Accuracy')\n",
    "plt.legend()\n",
    "plt.show()\n",
    "\n",
    "print(\"Best Validation Accuracy: \", best_val_acc, \" with \", best_n_estimators, \" estimators\")"
   ]
  },
  {
   "cell_type": "markdown",
   "id": "35319977-4805-4a9e-82b1-69cca44b1c83",
   "metadata": {},
   "source": [
    "#### 4. (1pt) Where does the model start overfitting, please explain?"
   ]
  },
  {
   "cell_type": "markdown",
   "id": "254bd735-399c-4566-b2db-227ed3169ae0",
   "metadata": {
    "jp-MarkdownHeadingCollapsed": true,
    "tags": []
   },
   "source": [
    "The training accuracy quickly approaches 1.0 (or 100%) and stays there after a certain point. This indicates the model is perfectly fitting the training data. The validation accuracy, however, starts fluctuating after around n_estimators of 20. Specifically, it becomes evident around n_estimators of 26 where the training accuracy is nearly perfect (or even perfect for later values), but the validation accuracy does not improve consistently and sometimes even dips. The discrepancy between training and validation accuracies (with the training accuracy being significantly higher) is a clear indication of overfitting. Based on the plot and the given data, the model starts showing signs of overfitting around n_estimators of 26 and onwards."
   ]
  }
 ],
 "metadata": {
  "kernelspec": {
   "display_name": "Python 3 (ipykernel)",
   "language": "python",
   "name": "python3"
  },
  "language_info": {
   "codemirror_mode": {
    "name": "ipython",
    "version": 3
   },
   "file_extension": ".py",
   "mimetype": "text/x-python",
   "name": "python",
   "nbconvert_exporter": "python",
   "pygments_lexer": "ipython3",
   "version": "3.9.12"
  }
 },
 "nbformat": 4,
 "nbformat_minor": 5
}
