{
 "cells": [
  {
   "cell_type": "code",
   "execution_count": 1,
   "metadata": {},
   "outputs": [],
   "source": [
    "import numpy as np\n",
    "import matplotlib.pyplot as plt\n",
    "from sklearn.linear_model import LinearRegression # for linear regression"
   ]
  },
  {
   "cell_type": "code",
   "execution_count": 2,
   "metadata": {},
   "outputs": [],
   "source": [
    "X = 2 * np.random.rand(100, 1)\n",
    "y = 4 + 3 * X + np.random.randn(100, 1)\n",
    "X_b = np.c_[np.ones((100, 1)), X]  # add x0 = 1 to each instance"
   ]
  },
  {
   "cell_type": "code",
   "execution_count": 3,
   "metadata": {},
   "outputs": [
    {
     "data": {
      "text/plain": [
       "array([[3.88095473],\n",
       "       [3.08808484]])"
      ]
     },
     "execution_count": 3,
     "metadata": {},
     "output_type": "execute_result"
    }
   ],
   "source": [
    "np.random.seed(371)\n",
    "# finding coefficients of best fit (ordinary least squares)\n",
    "X_b = np.c_[np.ones((100, 1)), X]  # add x0 = 1 to each instance\n",
    "theta_best = np.linalg.inv(X_b.T.dot(X_b)).dot(X_b.T).dot(y) # Closed Form OLS solution: w=(XX⊤)−1Xy⊤ where X=[x1,…,xn] and y=[y1,…,yn]\n",
    "theta_best"
   ]
  },
  {
   "cell_type": "code",
   "execution_count": 4,
   "metadata": {},
   "outputs": [],
   "source": [
    "X_new = np.array([[0], [2]]) # range of values is 0-2\n",
    "X_new_b = np.c_[np.ones((2, 1)), X_new] # add x0 = 1 to each instance (intercept)\n",
    "y_predict_best = X_new_b.dot(theta_best)"
   ]
  },
  {
   "cell_type": "code",
   "execution_count": 5,
   "metadata": {},
   "outputs": [
    {
     "data": {
      "image/png": "[encoded data removed]",
      "text/plain": [
       "<Figure size 432x288 with 1 Axes>"
      ]
     },
     "metadata": {
      "needs_background": "light"
     },
     "output_type": "display_data"
    }
   ],
   "source": [
    "# plt.plot(X_new, y_predict, \"r-\")\n",
    "plt.plot(X, y, \".\")\n",
    "plt.axis([0, 2, 0, 15])\n",
    "plt.plot(X_new, y_predict_best, 'r-')\n",
    "plt.show()"
   ]
  },
  {
   "cell_type": "markdown",
   "metadata": {},
   "source": [
    "# Batch Gradient Descent"
   ]
  },
  {
   "cell_type": "code",
   "execution_count": 18,
   "metadata": {},
   "outputs": [
    {
     "name": "stdout",
     "output_type": "stream",
     "text": [
      "num iterations to convergence: 5000\n",
      "[[3.88095443]\n",
      " [3.08808508]]\n"
     ]
    }
   ],
   "source": [
    "eta = 0.01  # learning rate\n",
    "n_iterations = 5000\n",
    "m = 100 # num points\n",
    "\n",
    "stop_criterion = 0.01\n",
    "\n",
    "np.random.seed(371)\n",
    "theta_bgd = np.random.randn(2,1)  # random initialization\n",
    "\n",
    "# gradients_prev = np.array([[0], [0]])\n",
    "current_i = 0\n",
    "for iteration in range(n_iterations):\n",
    "    gradients = 2/m * X_b.T.dot(X_b.dot(theta_bgd) - y)\n",
    "    theta_bgd = theta_bgd - eta * gradients\n",
    "    current_i = current_i + 1\n",
    "print('num iterations to convergence:', current_i)\n",
    "print(theta_bgd)"
   ]
  },
  {
   "cell_type": "markdown",
   "metadata": {},
   "source": [
    "# Batch Gradient Descent w/ Stop Criterion\n",
    "stops when gradient stops changing\n",
    "\n",
    "Change eta and look at num comparisons!"
   ]
  },
  {
   "cell_type": "code",
   "execution_count": 7,
   "metadata": {},
   "outputs": [
    {
     "name": "stdout",
     "output_type": "stream",
     "text": [
      "num iterations to convergence: 342\n",
      "[[3.88092334]\n",
      " [3.08811087]]\n"
     ]
    }
   ],
   "source": [
    "eta = 0.1  # learning rate (try 0.001, 1, 0.5, 0.3)\n",
    "n_iterations = 1000\n",
    "m = 100 # num points\n",
    "\n",
    "stop_criterion = 0.00001\n",
    "\n",
    "np.random.seed(371)\n",
    "theta_bgd = np.random.randn(2,1)  # random initialization\n",
    "\n",
    "# gradients_prev = np.array([[0], [0]])\n",
    "current_i = 0\n",
    "gradients_max = 9999\n",
    "\n",
    "while gradients_max > stop_criterion and current_i < n_iterations:\n",
    "    gradients = 2/m * X_b.T.dot(X_b.dot(theta_bgd) - y)\n",
    "    theta_bgd = theta_bgd - eta * gradients\n",
    "    gradients_max = max(abs(gradients))[0]\n",
    "    current_i = current_i + 1\n",
    "\n",
    "print('num iterations to convergence:', current_i)\n",
    "print(theta_bgd)"
   ]
  },
  {
   "cell_type": "code",
   "execution_count": 8,
   "metadata": {},
   "outputs": [],
   "source": [
    "# use theta parameters we found to predict values\n",
    "X_new = np.array([[0], [2]])\n",
    "X_new_b = np.c_[np.ones((2, 1)), X_new] # add x0 = 1 to each row (intercept)\n",
    "y_predict_bgd = X_new_b.dot(theta_bgd)"
   ]
  },
  {
   "cell_type": "code",
   "execution_count": 9,
   "metadata": {},
   "outputs": [
    {
     "data": {
      "image/png": "[encoded data removed]",
      "text/plain": [
       "<Figure size 432x288 with 1 Axes>"
      ]
     },
     "metadata": {
      "needs_background": "light"
     },
     "output_type": "display_data"
    }
   ],
   "source": [
    "# plt.plot(X_new, y_predict, \"r-\")\n",
    "plt.plot(X, y, \".\")\n",
    "plt.plot(X_new, y_predict_bgd, 'b-') # batch gradient descent\n",
    "plt.plot(X_new, y_predict_best, 'r-') # best fit (least squares)\n",
    "plt.axis([0, 2, 0, 15])\n",
    "plt.show()"
   ]
  },
  {
   "cell_type": "markdown",
   "metadata": {},
   "source": [
    "# Stochastic Gradient Descent"
   ]
  },
  {
   "cell_type": "code",
   "execution_count": 10,
   "metadata": {},
   "outputs": [
    {
     "data": {
      "text/plain": [
       "array([[3.8574241 ],\n",
       "       [3.08560831]])"
      ]
     },
     "execution_count": 10,
     "metadata": {},
     "output_type": "execute_result"
    }
   ],
   "source": [
    "n_epochs = 50\n",
    "t0, t1 = 5, 50  # learning schedule hyperparameters\n",
    "\n",
    "np.random.seed(371)\n",
    "def learning_schedule(t): # learning rate decreases further along in gradient descent\n",
    "    return t0 / (t + t1)\n",
    "\n",
    "theta_sgd = np.random.randn(2,1)  # random initialization\n",
    "\n",
    "for epoch in range(n_epochs):\n",
    "    for i in range(m):\n",
    "        random_index = np.random.randint(m) # get random index\n",
    "        xi = X_b[random_index:random_index+1]\n",
    "        yi = y[random_index:random_index+1]\n",
    "        gradients = 2 * xi.T.dot(xi.dot(theta_sgd) - yi) # calculate gradient\n",
    "        eta = learning_schedule(epoch * m + i)\n",
    "        theta_sgd = theta_sgd - eta * gradients\n",
    "theta_sgd"
   ]
  },
  {
   "cell_type": "code",
   "execution_count": 11,
   "metadata": {},
   "outputs": [],
   "source": [
    "# use theta parameters we found to predict values\n",
    "X_new = np.array([[0], [2]])\n",
    "X_new_b = np.c_[np.ones((2, 1)), X_new] # add x0 = 1 to each row (intercept)\n",
    "y_predict_sgd = X_new_b.dot(theta_sgd)"
   ]
  },
  {
   "cell_type": "code",
   "execution_count": 12,
   "metadata": {},
   "outputs": [
    {
     "data": {
      "image/png": "[encoded data removed]",
      "text/plain": [
       "<Figure size 432x288 with 1 Axes>"
      ]
     },
     "metadata": {
      "needs_background": "light"
     },
     "output_type": "display_data"
    }
   ],
   "source": [
    "# plt.plot(X_new, y_predict, \"r-\")\n",
    "plt.plot(X, y, '.')\n",
    "plt.plot(X_new, y_predict_bgd, 'o-')\n",
    "plt.plot(X_new, y_predict_sgd, 'b-')\n",
    "plt.plot(X_new, y_predict_best, 'r-')\n",
    "plt.axis([0, 2, 0, 15])\n",
    "plt.show()"
   ]
  },
  {
   "cell_type": "markdown",
   "metadata": {},
   "source": [
    "# Doing SGD w/ sklearn\n",
    "Let's fit a linear model w/ SGD"
   ]
  },
  {
   "cell_type": "code",
   "execution_count": 13,
   "metadata": {},
   "outputs": [],
   "source": [
    "from sklearn.linear_model import SGDRegressor"
   ]
  },
  {
   "cell_type": "code",
   "execution_count": 14,
   "metadata": {},
   "outputs": [
    {
     "data": {
      "text/plain": [
       "SGDRegressor(eta0=0.1, max_iter=50, penalty=None)"
      ]
     },
     "execution_count": 14,
     "metadata": {},
     "output_type": "execute_result"
    }
   ],
   "source": [
    "sgd_reg = SGDRegressor(max_iter=50, penalty=None, eta0=0.1)\n",
    "sgd_reg.fit(X, y.ravel())\n"
   ]
  },
  {
   "cell_type": "code",
   "execution_count": 15,
   "metadata": {},
   "outputs": [
    {
     "data": {
      "text/plain": [
       "(array([3.87115882]), array([3.0640916]))"
      ]
     },
     "execution_count": 15,
     "metadata": {},
     "output_type": "execute_result"
    }
   ],
   "source": [
    "sgd_reg.intercept_, sgd_reg.coef_"
   ]
  }
 ],
 "metadata": {
  "kernelspec": {
   "display_name": "Python 3 (ipykernel)",
   "language": "python",
   "name": "python3"
  },
  "language_info": {
   "codemirror_mode": {
    "name": "ipython",
    "version": 3
   },
   "file_extension": ".py",
   "mimetype": "text/x-python",
   "name": "python",
   "nbconvert_exporter": "python",
   "pygments_lexer": "ipython3",
   "version": "3.9.12"
  }
 },
 "nbformat": 4,
 "nbformat_minor": 4
}
