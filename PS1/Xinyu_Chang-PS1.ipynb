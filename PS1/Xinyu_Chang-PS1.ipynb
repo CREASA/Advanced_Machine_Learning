{
 "cells": [
  {
   "cell_type": "markdown",
   "metadata": {},
   "source": [
    "## Problem Set 1, due Sunday October 15th at 11:59pm \n",
    "\n",
    "\n",
    "#### Before You Start\n",
    "For this problem set, you should download the flights.zip and weather.csv datasets from Canvas. Create a local copy of the notebook and rename it LASTNAME_FIRSTNAME-PS1.ipynb. Then edit your renamed file directly in your browser. You should also make sure the following libraries load correctly."
   ]
  },
  {
   "cell_type": "code",
   "execution_count": 1,
   "metadata": {},
   "outputs": [
    {
     "name": "stdout",
     "output_type": "stream",
     "text": [
      "Your numpy version: 1.22.4 (need at least 1.7.1)\n",
      "Your SciPy version:  1.7.3 (need at least 0.12.0)\n",
      "Your Pandas version:  1.4.2 (need at least 0.11.0)\n",
      "Your Mapltolib version:  3.5.1 (need at least 1.2.1)\n",
      "Your Scikit-Learn version:  1.0.2 (need at least 0.13.1)\n"
     ]
    }
   ],
   "source": [
    "# Numpy is a library for working with Arrays\n",
    "import numpy as np\n",
    "print (\"Your numpy version: %6.6s (need at least 1.7.1)\" % np.__version__)\n",
    "\n",
    "# SciPy implements many different numerical algorithms\n",
    "import scipy as sp\n",
    "print (\"Your SciPy version: %6.6s (need at least 0.12.0)\" % sp.__version__)\n",
    "\n",
    "# Pandas makes working with data tables easier\n",
    "import pandas as pd\n",
    "print (\"Your Pandas version: %6.6s (need at least 0.11.0)\" % pd.__version__)\n",
    "\n",
    "# Module for plotting\n",
    "import matplotlib\n",
    "print (\"Your Mapltolib version: %6.6s (need at least 1.2.1)\" % matplotlib.__version__)\n",
    "\n",
    "# SciKit Learn implements several Machine Learning algorithms\n",
    "import sklearn\n",
    "print (\"Your Scikit-Learn version: %6.6s (need at least 0.13.1)\" % sklearn.__version__)"
   ]
  },
  {
   "cell_type": "markdown",
   "metadata": {},
   "source": [
    "#### Instructions: \n",
    " \n",
    "In this problem set you will perform a basic exploratory analysis on an example dataset, bringing to bear all of your new skills in data manipulation and visualization. You will be required to submit well commented python code, documenting all code used in this problem set, along with a write up answering all questions below. Use figures as appropriate to support your answers, and when required by the problem. \n",
    "\n",
    "This data set uses the NYCFlights13 dataset that contains information for flights originating from New York City (NYC) in 2013. You can download the dataset from flights data that you downloaded from canvas (flights.zip).\n",
    "\n",
    "Selected questions ask you to answer in multiple ways. Make sure to provide different functions or ways for answering the same question. This will help you see that most data questions can be answered in different ways even with the same software language."
   ]
  },
  {
   "cell_type": "code",
   "execution_count": 2,
   "metadata": {},
   "outputs": [],
   "source": [
    "import pandas as pd\n",
    "import numpy as np\n",
    "import matplotlib.pyplot as plt"
   ]
  },
  {
   "cell_type": "code",
   "execution_count": 3,
   "metadata": {},
   "outputs": [],
   "source": [
    "flights_df= pd.read_csv('flights.csv')"
   ]
  },
  {
   "cell_type": "code",
   "execution_count": 4,
   "metadata": {},
   "outputs": [
    {
     "name": "stdout",
     "output_type": "stream",
     "text": [
      "(336776, 17)\n",
      "Index(['Unnamed: 0', 'year', 'month', 'day', 'dep_time', 'dep_delay',\n",
      "       'arr_time', 'arr_delay', 'carrier', 'tailnum', 'flight', 'origin',\n",
      "       'dest', 'air_time', 'distance', 'hour', 'minute'],\n",
      "      dtype='object')\n",
      "Unnamed: 0      int64\n",
      "year            int64\n",
      "month           int64\n",
      "day             int64\n",
      "dep_time      float64\n",
      "dep_delay     float64\n",
      "arr_time      float64\n",
      "arr_delay     float64\n",
      "carrier        object\n",
      "tailnum        object\n",
      "flight          int64\n",
      "origin         object\n",
      "dest           object\n",
      "air_time      float64\n",
      "distance        int64\n",
      "hour          float64\n",
      "minute        float64\n",
      "dtype: object\n"
     ]
    }
   ],
   "source": [
    "# Let's start by looking at some of the structural attributes of the dataset\n",
    "\n",
    "print (flights_df.shape)   # rows and columns\n",
    "print (flights_df.columns) # column names\n",
    "print (flights_df.dtypes)  # data types of each column"
   ]
  },
  {
   "cell_type": "code",
   "execution_count": 5,
   "metadata": {},
   "outputs": [
    {
     "name": "stdout",
     "output_type": "stream",
     "text": [
      "['IAH' 'MIA' 'BQN' 'ATL' 'ORD' 'FLL' 'IAD' 'MCO' 'PBI' 'TPA' 'LAX' 'SFO'\n",
      " 'DFW' 'BOS' 'LAS' 'MSP' 'DTW' 'RSW' 'SJU' 'PHX' 'BWI' 'CLT' 'BUF' 'DEN'\n",
      " 'SNA' 'MSY' 'SLC' 'XNA' 'MKE' 'SEA' 'ROC' 'SYR' 'SRQ' 'RDU' 'CMH' 'JAX'\n",
      " 'CHS' 'MEM' 'PIT' 'SAN' 'DCA' 'CLE' 'STL' 'MYR' 'JAC' 'MDW' 'HNL' 'BNA'\n",
      " 'AUS' 'BTV' 'PHL' 'STT' 'EGE' 'AVL' 'PWM' 'IND' 'SAV' 'CAK' 'HOU' 'LGB'\n",
      " 'DAY' 'ALB' 'BDL' 'MHT' 'MSN' 'GSO' 'CVG' 'BUR' 'RIC' 'GSP' 'GRR' 'MCI'\n",
      " 'ORF' 'SAT' 'SDF' 'PDX' 'SJC' 'OMA' 'CRW' 'OAK' 'SMF' 'TUL' 'TYS' 'OKC'\n",
      " 'PVD' 'DSM' 'PSE' 'BHM' 'CAE' 'HDN' 'BZN' 'MTJ' 'EYW' 'PSP' 'ACK' 'BGR'\n",
      " 'ABQ' 'ILM' 'MVY' 'SBN' 'LEX' 'CHO' 'TVC' 'ANC' 'LGA']\n"
     ]
    },
    {
     "data": {
      "text/html": [
       "<div>\n",
       "<style scoped>\n",
       "    .dataframe tbody tr th:only-of-type {\n",
       "        vertical-align: middle;\n",
       "    }\n",
       "\n",
       "    .dataframe tbody tr th {\n",
       "        vertical-align: top;\n",
       "    }\n",
       "\n",
       "    .dataframe thead th {\n",
       "        text-align: right;\n",
       "    }\n",
       "</style>\n",
       "<table border=\"1\" class=\"dataframe\">\n",
       "  <thead>\n",
       "    <tr style=\"text-align: right;\">\n",
       "      <th></th>\n",
       "      <th>Unnamed: 0</th>\n",
       "      <th>year</th>\n",
       "      <th>month</th>\n",
       "      <th>day</th>\n",
       "      <th>dep_time</th>\n",
       "      <th>dep_delay</th>\n",
       "      <th>arr_time</th>\n",
       "      <th>arr_delay</th>\n",
       "      <th>carrier</th>\n",
       "      <th>tailnum</th>\n",
       "      <th>flight</th>\n",
       "      <th>origin</th>\n",
       "      <th>dest</th>\n",
       "      <th>air_time</th>\n",
       "      <th>distance</th>\n",
       "      <th>hour</th>\n",
       "      <th>minute</th>\n",
       "    </tr>\n",
       "  </thead>\n",
       "  <tbody>\n",
       "    <tr>\n",
       "      <th>0</th>\n",
       "      <td>1</td>\n",
       "      <td>2013</td>\n",
       "      <td>1</td>\n",
       "      <td>1</td>\n",
       "      <td>517.0</td>\n",
       "      <td>2.0</td>\n",
       "      <td>830.0</td>\n",
       "      <td>11.0</td>\n",
       "      <td>UA</td>\n",
       "      <td>N14228</td>\n",
       "      <td>1545</td>\n",
       "      <td>EWR</td>\n",
       "      <td>IAH</td>\n",
       "      <td>227.0</td>\n",
       "      <td>1400</td>\n",
       "      <td>5.0</td>\n",
       "      <td>17.0</td>\n",
       "    </tr>\n",
       "    <tr>\n",
       "      <th>1</th>\n",
       "      <td>2</td>\n",
       "      <td>2013</td>\n",
       "      <td>1</td>\n",
       "      <td>1</td>\n",
       "      <td>533.0</td>\n",
       "      <td>4.0</td>\n",
       "      <td>850.0</td>\n",
       "      <td>20.0</td>\n",
       "      <td>UA</td>\n",
       "      <td>N24211</td>\n",
       "      <td>1714</td>\n",
       "      <td>LGA</td>\n",
       "      <td>IAH</td>\n",
       "      <td>227.0</td>\n",
       "      <td>1416</td>\n",
       "      <td>5.0</td>\n",
       "      <td>33.0</td>\n",
       "    </tr>\n",
       "    <tr>\n",
       "      <th>2</th>\n",
       "      <td>3</td>\n",
       "      <td>2013</td>\n",
       "      <td>1</td>\n",
       "      <td>1</td>\n",
       "      <td>542.0</td>\n",
       "      <td>2.0</td>\n",
       "      <td>923.0</td>\n",
       "      <td>33.0</td>\n",
       "      <td>AA</td>\n",
       "      <td>N619AA</td>\n",
       "      <td>1141</td>\n",
       "      <td>JFK</td>\n",
       "      <td>MIA</td>\n",
       "      <td>160.0</td>\n",
       "      <td>1089</td>\n",
       "      <td>5.0</td>\n",
       "      <td>42.0</td>\n",
       "    </tr>\n",
       "    <tr>\n",
       "      <th>3</th>\n",
       "      <td>4</td>\n",
       "      <td>2013</td>\n",
       "      <td>1</td>\n",
       "      <td>1</td>\n",
       "      <td>544.0</td>\n",
       "      <td>-1.0</td>\n",
       "      <td>1004.0</td>\n",
       "      <td>-18.0</td>\n",
       "      <td>B6</td>\n",
       "      <td>N804JB</td>\n",
       "      <td>725</td>\n",
       "      <td>JFK</td>\n",
       "      <td>BQN</td>\n",
       "      <td>183.0</td>\n",
       "      <td>1576</td>\n",
       "      <td>5.0</td>\n",
       "      <td>44.0</td>\n",
       "    </tr>\n",
       "    <tr>\n",
       "      <th>4</th>\n",
       "      <td>5</td>\n",
       "      <td>2013</td>\n",
       "      <td>1</td>\n",
       "      <td>1</td>\n",
       "      <td>554.0</td>\n",
       "      <td>-6.0</td>\n",
       "      <td>812.0</td>\n",
       "      <td>-25.0</td>\n",
       "      <td>DL</td>\n",
       "      <td>N668DN</td>\n",
       "      <td>461</td>\n",
       "      <td>LGA</td>\n",
       "      <td>ATL</td>\n",
       "      <td>116.0</td>\n",
       "      <td>762</td>\n",
       "      <td>5.0</td>\n",
       "      <td>54.0</td>\n",
       "    </tr>\n",
       "    <tr>\n",
       "      <th>5</th>\n",
       "      <td>6</td>\n",
       "      <td>2013</td>\n",
       "      <td>1</td>\n",
       "      <td>1</td>\n",
       "      <td>554.0</td>\n",
       "      <td>-4.0</td>\n",
       "      <td>740.0</td>\n",
       "      <td>12.0</td>\n",
       "      <td>UA</td>\n",
       "      <td>N39463</td>\n",
       "      <td>1696</td>\n",
       "      <td>EWR</td>\n",
       "      <td>ORD</td>\n",
       "      <td>150.0</td>\n",
       "      <td>719</td>\n",
       "      <td>5.0</td>\n",
       "      <td>54.0</td>\n",
       "    </tr>\n",
       "    <tr>\n",
       "      <th>6</th>\n",
       "      <td>7</td>\n",
       "      <td>2013</td>\n",
       "      <td>1</td>\n",
       "      <td>1</td>\n",
       "      <td>555.0</td>\n",
       "      <td>-5.0</td>\n",
       "      <td>913.0</td>\n",
       "      <td>19.0</td>\n",
       "      <td>B6</td>\n",
       "      <td>N516JB</td>\n",
       "      <td>507</td>\n",
       "      <td>EWR</td>\n",
       "      <td>FLL</td>\n",
       "      <td>158.0</td>\n",
       "      <td>1065</td>\n",
       "      <td>5.0</td>\n",
       "      <td>55.0</td>\n",
       "    </tr>\n",
       "    <tr>\n",
       "      <th>7</th>\n",
       "      <td>8</td>\n",
       "      <td>2013</td>\n",
       "      <td>1</td>\n",
       "      <td>1</td>\n",
       "      <td>557.0</td>\n",
       "      <td>-3.0</td>\n",
       "      <td>709.0</td>\n",
       "      <td>-14.0</td>\n",
       "      <td>EV</td>\n",
       "      <td>N829AS</td>\n",
       "      <td>5708</td>\n",
       "      <td>LGA</td>\n",
       "      <td>IAD</td>\n",
       "      <td>53.0</td>\n",
       "      <td>229</td>\n",
       "      <td>5.0</td>\n",
       "      <td>57.0</td>\n",
       "    </tr>\n",
       "    <tr>\n",
       "      <th>8</th>\n",
       "      <td>9</td>\n",
       "      <td>2013</td>\n",
       "      <td>1</td>\n",
       "      <td>1</td>\n",
       "      <td>557.0</td>\n",
       "      <td>-3.0</td>\n",
       "      <td>838.0</td>\n",
       "      <td>-8.0</td>\n",
       "      <td>B6</td>\n",
       "      <td>N593JB</td>\n",
       "      <td>79</td>\n",
       "      <td>JFK</td>\n",
       "      <td>MCO</td>\n",
       "      <td>140.0</td>\n",
       "      <td>944</td>\n",
       "      <td>5.0</td>\n",
       "      <td>57.0</td>\n",
       "    </tr>\n",
       "    <tr>\n",
       "      <th>9</th>\n",
       "      <td>10</td>\n",
       "      <td>2013</td>\n",
       "      <td>1</td>\n",
       "      <td>1</td>\n",
       "      <td>558.0</td>\n",
       "      <td>-2.0</td>\n",
       "      <td>753.0</td>\n",
       "      <td>8.0</td>\n",
       "      <td>AA</td>\n",
       "      <td>N3ALAA</td>\n",
       "      <td>301</td>\n",
       "      <td>LGA</td>\n",
       "      <td>ORD</td>\n",
       "      <td>138.0</td>\n",
       "      <td>733</td>\n",
       "      <td>5.0</td>\n",
       "      <td>58.0</td>\n",
       "    </tr>\n",
       "  </tbody>\n",
       "</table>\n",
       "</div>"
      ],
      "text/plain": [
       "   Unnamed: 0  year  month  day  dep_time  dep_delay  arr_time  arr_delay  \\\n",
       "0           1  2013      1    1     517.0        2.0     830.0       11.0   \n",
       "1           2  2013      1    1     533.0        4.0     850.0       20.0   \n",
       "2           3  2013      1    1     542.0        2.0     923.0       33.0   \n",
       "3           4  2013      1    1     544.0       -1.0    1004.0      -18.0   \n",
       "4           5  2013      1    1     554.0       -6.0     812.0      -25.0   \n",
       "5           6  2013      1    1     554.0       -4.0     740.0       12.0   \n",
       "6           7  2013      1    1     555.0       -5.0     913.0       19.0   \n",
       "7           8  2013      1    1     557.0       -3.0     709.0      -14.0   \n",
       "8           9  2013      1    1     557.0       -3.0     838.0       -8.0   \n",
       "9          10  2013      1    1     558.0       -2.0     753.0        8.0   \n",
       "\n",
       "  carrier tailnum  flight origin dest  air_time  distance  hour  minute  \n",
       "0      UA  N14228    1545    EWR  IAH     227.0      1400   5.0    17.0  \n",
       "1      UA  N24211    1714    LGA  IAH     227.0      1416   5.0    33.0  \n",
       "2      AA  N619AA    1141    JFK  MIA     160.0      1089   5.0    42.0  \n",
       "3      B6  N804JB     725    JFK  BQN     183.0      1576   5.0    44.0  \n",
       "4      DL  N668DN     461    LGA  ATL     116.0       762   5.0    54.0  \n",
       "5      UA  N39463    1696    EWR  ORD     150.0       719   5.0    54.0  \n",
       "6      B6  N516JB     507    EWR  FLL     158.0      1065   5.0    55.0  \n",
       "7      EV  N829AS    5708    LGA  IAD      53.0       229   5.0    57.0  \n",
       "8      B6  N593JB      79    JFK  MCO     140.0       944   5.0    57.0  \n",
       "9      AA  N3ALAA     301    LGA  ORD     138.0       733   5.0    58.0  "
      ]
     },
     "execution_count": 5,
     "metadata": {},
     "output_type": "execute_result"
    }
   ],
   "source": [
    "# Let's look at the unique destinations of the flights in the data \n",
    "\n",
    "a = flights_df.dest.unique()\n",
    "print(a)\n",
    "\n",
    "# Let's now look at the top ten rows to get a sense of the data\n",
    "flights_df.head(10)\n"
   ]
  },
  {
   "cell_type": "markdown",
   "metadata": {},
   "source": [
    "#### Some Tips\n",
    "\n",
    "* This assignment involves extensive Data frame splitting and aggregation. You should look into the details of the methods groupby, transform, sum, count, mean etc.\n",
    "\n",
    "* Many of the tasks in the assignment can be done either through the Pandas Data Frame or by converting the data frames to Series. Many of the methods in the numpy are applicable to Series only. When stuck, try to explore the type of object (Pandas Data Frame or Numpy Series) you are dealing with."
   ]
  },
  {
   "cell_type": "markdown",
   "metadata": {},
   "source": [
    "#### Question 1\n",
    "Let’s explore flights from NYC to Seattle. Use the flights dataset to answer the following questions.\n",
    "\n",
    "(a) How many flights were there from NYC airports to Seattle in 2013?"
   ]
  },
  {
   "cell_type": "code",
   "execution_count": 6,
   "metadata": {},
   "outputs": [
    {
     "data": {
      "text/plain": [
       "3923"
      ]
     },
     "execution_count": 6,
     "metadata": {},
     "output_type": "execute_result"
    }
   ],
   "source": [
    "# Your code here\n",
    "flights_df1=flights_df[flights_df.dest=='SEA']\n",
    "flights_df1.shape[0]"
   ]
  },
  {
   "cell_type": "markdown",
   "metadata": {},
   "source": [
    "There were 3923 flights from NYC to Seattle (airport code SEA) in 2013. "
   ]
  },
  {
   "cell_type": "markdown",
   "metadata": {},
   "source": [
    "(b) How many airlines fly from NYC to Seattle?"
   ]
  },
  {
   "cell_type": "code",
   "execution_count": 7,
   "metadata": {},
   "outputs": [
    {
     "data": {
      "text/plain": [
       "5"
      ]
     },
     "execution_count": 7,
     "metadata": {},
     "output_type": "execute_result"
    }
   ],
   "source": [
    "# Your code here\n",
    "airlines = flights_df1['carrier'].nunique()\n",
    "airlines"
   ]
  },
  {
   "cell_type": "markdown",
   "metadata": {},
   "source": [
    "There were 5 airlines fly from NYC to Seattle."
   ]
  },
  {
   "cell_type": "markdown",
   "metadata": {},
   "source": [
    "(c) How many unique air planes fly (number of flights) from NYC to Seattle?"
   ]
  },
  {
   "cell_type": "code",
   "execution_count": 8,
   "metadata": {},
   "outputs": [
    {
     "data": {
      "text/plain": [
       "935"
      ]
     },
     "execution_count": 8,
     "metadata": {},
     "output_type": "execute_result"
    }
   ],
   "source": [
    "# Your code here\n",
    "num_unique = flights_df1['tailnum'].nunique()\n",
    "num_unique"
   ]
  },
  {
   "cell_type": "markdown",
   "metadata": {},
   "source": [
    " There were 935 unique air planes fly (number of flights) from NYC to Seattle."
   ]
  },
  {
   "cell_type": "markdown",
   "metadata": {},
   "source": [
    "(d) What is the average arrival delay for flights from NYC to Seattle?"
   ]
  },
  {
   "cell_type": "code",
   "execution_count": 9,
   "metadata": {},
   "outputs": [
    {
     "data": {
      "text/plain": [
       "-1.0990990990990992"
      ]
     },
     "execution_count": 9,
     "metadata": {},
     "output_type": "execute_result"
    }
   ],
   "source": [
    "# Your code here\n",
    "avg_arrival_delay = flights_df1['arr_delay'].mean()\n",
    "avg_arrival_delay"
   ]
  },
  {
   "cell_type": "markdown",
   "metadata": {},
   "source": [
    "The average arrival delay for flights from NYC to Seattle is -1.1 minutes."
   ]
  },
  {
   "cell_type": "markdown",
   "metadata": {},
   "source": [
    "(e) What proportion of flights to Seattle come from each NYC airport? Provide two ways of answering the question."
   ]
  },
  {
   "cell_type": "code",
   "execution_count": 10,
   "metadata": {},
   "outputs": [
    {
     "data": {
      "text/plain": [
       "origin\n",
       "EWR    0.466735\n",
       "JFK    0.533265\n",
       "dtype: float64"
      ]
     },
     "execution_count": 10,
     "metadata": {},
     "output_type": "execute_result"
    }
   ],
   "source": [
    "# Your code here\n",
    "# Method 1\n",
    "proportions_1 = flights_df1.groupby('origin').size() / len(flights_df1)\n",
    "proportions_1"
   ]
  },
  {
   "cell_type": "code",
   "execution_count": 11,
   "metadata": {},
   "outputs": [
    {
     "data": {
      "text/plain": [
       "JFK    0.533265\n",
       "EWR    0.466735\n",
       "Name: origin, dtype: float64"
      ]
     },
     "execution_count": 11,
     "metadata": {},
     "output_type": "execute_result"
    }
   ],
   "source": [
    "# Method 2\n",
    "proportions_2 = flights_df1['origin'].value_counts(normalize=True)\n",
    "proportions_2"
   ]
  },
  {
   "cell_type": "markdown",
   "metadata": {},
   "source": [
    "The proportion of flights to Seattle come from each NYC airport is 0.53 for JFK airport and 0.47 for EWR airport."
   ]
  },
  {
   "cell_type": "markdown",
   "metadata": {},
   "source": [
    "## Question 2\n",
    "Flights are often delayed. Consider the following questions exploring delay patterns.\n",
    "\n",
    "(a) Which date has the largest average departure delay? Which date has the largest average arrival delay?"
   ]
  },
  {
   "cell_type": "code",
   "execution_count": 12,
   "metadata": {},
   "outputs": [],
   "source": [
    "# Your code here\n",
    "# Create a new column called date\n",
    "flights_df['date'] = pd.to_datetime(flights_df[['year', 'month', 'day']])"
   ]
  },
  {
   "cell_type": "code",
   "execution_count": 13,
   "metadata": {},
   "outputs": [],
   "source": [
    "# Calculate average delays by date\n",
    "avg_delays = flights_df.groupby('date').agg({\n",
    "    'dep_delay': 'mean',\n",
    "    'arr_delay': 'mean'\n",
    "})"
   ]
  },
  {
   "cell_type": "code",
   "execution_count": 14,
   "metadata": {},
   "outputs": [
    {
     "data": {
      "text/plain": [
       "Timestamp('2013-03-08 00:00:00')"
      ]
     },
     "execution_count": 14,
     "metadata": {},
     "output_type": "execute_result"
    }
   ],
   "source": [
    "# Find the largest average departure delay\n",
    "max_dep_delay = avg_delays['dep_delay'].idxmax()\n",
    "max_dep_delay"
   ]
  },
  {
   "cell_type": "code",
   "execution_count": 15,
   "metadata": {},
   "outputs": [
    {
     "data": {
      "text/plain": [
       "Timestamp('2013-03-08 00:00:00')"
      ]
     },
     "execution_count": 15,
     "metadata": {},
     "output_type": "execute_result"
    }
   ],
   "source": [
    "# Find the largest average arrival delay\n",
    "max_arr_delay = avg_delays['arr_delay'].idxmax()\n",
    "max_arr_delay"
   ]
  },
  {
   "cell_type": "markdown",
   "metadata": {},
   "source": [
    "The largest average departure delay is 2013-03-08 and the largest average arrival delay is 2013-03-08."
   ]
  },
  {
   "cell_type": "markdown",
   "metadata": {},
   "source": [
    "(b) Focusing on the number of delayed flights in a day, what was the worst day to fly out of NYC in 2013 if you dislike delayed flights?"
   ]
  },
  {
   "cell_type": "code",
   "execution_count": 16,
   "metadata": {},
   "outputs": [
    {
     "data": {
      "text/plain": [
       "date\n",
       "2013-01-01    352\n",
       "2013-01-02    450\n",
       "2013-01-03    413\n",
       "2013-01-04    391\n",
       "2013-01-05    268\n",
       "             ... \n",
       "2013-12-27    453\n",
       "2013-12-28    346\n",
       "2013-12-29    490\n",
       "2013-12-30    419\n",
       "2013-12-31    281\n",
       "Length: 365, dtype: int64"
      ]
     },
     "execution_count": 16,
     "metadata": {},
     "output_type": "execute_result"
    }
   ],
   "source": [
    "# Your code here\n",
    "# Count the number of delayed flights for each date\n",
    "most_delayed_flights = flights_df[flights_df['dep_delay'] > 0].groupby('date').size()\n",
    "most_delayed_flights"
   ]
  },
  {
   "cell_type": "code",
   "execution_count": 17,
   "metadata": {},
   "outputs": [
    {
     "data": {
      "text/plain": [
       "Timestamp('2013-12-23 00:00:00')"
      ]
     },
     "execution_count": 17,
     "metadata": {},
     "output_type": "execute_result"
    }
   ],
   "source": [
    "# Find the date with the most delayed flights\n",
    "worst_day = most_delayed_flights.idxmax()\n",
    "worst_day"
   ]
  },
  {
   "cell_type": "code",
   "execution_count": 18,
   "metadata": {},
   "outputs": [
    {
     "data": {
      "text/plain": [
       "674"
      ]
     },
     "execution_count": 18,
     "metadata": {},
     "output_type": "execute_result"
    }
   ],
   "source": [
    "# Find the number with the most delayed flights on the above date\n",
    "number_of_delays = most_delayed_flights[worst_day]\n",
    "number_of_delays"
   ]
  },
  {
   "cell_type": "markdown",
   "metadata": {},
   "source": [
    "The worst day to fly out of NYC in 2013 is 2013-12-23,because this day has the most delayed flights, the number is 674."
   ]
  },
  {
   "cell_type": "markdown",
   "metadata": {},
   "source": [
    "(c) Are there any seasonal patterns in departure delays for flights from NYC (e.g., check monthly delay averages)?"
   ]
  },
  {
   "cell_type": "code",
   "execution_count": 19,
   "metadata": {},
   "outputs": [
    {
     "data": {
      "text/plain": [
       "month\n",
       "1     10.036665\n",
       "2     10.816843\n",
       "3     13.227076\n",
       "4     13.938038\n",
       "5     12.986859\n",
       "6     20.846332\n",
       "7     21.727787\n",
       "8     12.611040\n",
       "9      6.722476\n",
       "10     6.243988\n",
       "11     5.435362\n",
       "12    16.576688\n",
       "Name: dep_delay, dtype: float64"
      ]
     },
     "execution_count": 19,
     "metadata": {},
     "output_type": "execute_result"
    }
   ],
   "source": [
    "# Your code here\n",
    "monthly_dep_delay = flights_df.groupby('month')['dep_delay'].mean()\n",
    "monthly_dep_delay"
   ]
  },
  {
   "cell_type": "markdown",
   "metadata": {},
   "source": [
    "We can clearly see from the results that there is a seasonal change in departure delays for flights from NYC. Flights from NYC have the longest average departure delays during the summer months (June: 20.85 minutes, July: 21.73 minutes), especially in June and July. In autumn, delays are the shortest (September: 6.72 minutes, October: 6.24 minutes, November: 5.44 minutes). There are also relatively long delays in the winter months of December (16.58 minutes) and the spring months of March and April (13.23 minutes and 13.94 minutes respectively). The data revealed a clear seasonal pattern, with longer delays in the summer and winter and the shortest delays in the fall. Because summer and winter are the travel times for most students, especially in December when there are many festivals, delays are normal. In addition, winter and summer are easily affected by weather delays, such as rain or snow."
   ]
  },
  {
   "cell_type": "markdown",
   "metadata": {},
   "source": [
    "(d) On average, how do departure delays vary over the course of a day (e.g., analyze by hour)?"
   ]
  },
  {
   "cell_type": "code",
   "execution_count": 20,
   "metadata": {},
   "outputs": [
    {
     "data": {
      "text/plain": [
       "hour\n",
       "0.0     128.642452\n",
       "1.0     207.049327\n",
       "2.0     239.921875\n",
       "3.0     304.727273\n",
       "4.0      -5.554098\n",
       "5.0      -4.355644\n",
       "6.0      -1.520552\n",
       "7.0       0.223289\n",
       "8.0       1.091432\n",
       "9.0       4.268295\n",
       "10.0      5.548644\n",
       "11.0      5.652309\n",
       "12.0      7.601892\n",
       "13.0      9.380639\n",
       "14.0      8.090381\n",
       "15.0     10.682049\n",
       "16.0     13.621150\n",
       "17.0     16.756593\n",
       "18.0     18.664671\n",
       "19.0     21.497342\n",
       "20.0     28.266213\n",
       "21.0     42.064964\n",
       "22.0     68.190042\n",
       "23.0     96.946865\n",
       "24.0     64.862069\n",
       "Name: dep_delay, dtype: float64"
      ]
     },
     "execution_count": 20,
     "metadata": {},
     "output_type": "execute_result"
    }
   ],
   "source": [
    "# Your code here\n",
    "dep_delay_hour = flights_df.groupby('hour')['dep_delay'].mean()\n",
    "dep_delay_hour"
   ]
  },
  {
   "cell_type": "markdown",
   "metadata": {},
   "source": [
    "The pattern of departure delays shows clear changes throughout the day. Delay times increased significantly from 0 a.m. to 4 a.m., with the average delay times at 2 a.m. and 3 a.m. reaching 239.92 minutes and 304.73 minutes respectively. This may be due to the cumulative impact of night flights being affected by previous delayed flights. And between 4 a.m. and 6 a.m., which is the time of day with the least delays, flights are not only not delayed, but often depart early, with average delays of -5.55 minutes and -4.36 minutes. Delays gradually increase from 7 a.m. to 0.22 minutes at 7 a.m., increasing to 21.50 minutes at 19 p.m. Delays further increased at night, especially between 20:00 and 23:00, with delays of 68.19 minutes and 96.95 minutes at 22:00 and 23:00 respectively. Although there are very few flights at 24:00 in the morning, the average delay time reaches 64.86 minutes. Overall, delays gradually increase as the day progresses, starting in the morning, especially in the evening and early morning hours, which may be related to accumulated delays, air traffic control, and other factors."
   ]
  },
  {
   "cell_type": "markdown",
   "metadata": {},
   "source": [
    "## Question 3\n",
    "    Which flight departing NYC in 2013 flew the fastest (e.g., calculate speed)?"
   ]
  },
  {
   "cell_type": "code",
   "execution_count": 21,
   "metadata": {},
   "outputs": [
    {
     "data": {
      "text/plain": [
       "0         370.044053\n",
       "1         374.273128\n",
       "2         408.375000\n",
       "3         516.721311\n",
       "4         394.137931\n",
       "             ...    \n",
       "336771           NaN\n",
       "336772           NaN\n",
       "336773           NaN\n",
       "336774           NaN\n",
       "336775           NaN\n",
       "Name: speed_mph, Length: 336776, dtype: float64"
      ]
     },
     "execution_count": 21,
     "metadata": {},
     "output_type": "execute_result"
    }
   ],
   "source": [
    "# Your code here\n",
    "# Get the speed\n",
    "flights_df['speed_mph'] = flights_df['distance'] / (flights_df['air_time'] / 60)\n",
    "flights_df['speed_mph']"
   ]
  },
  {
   "cell_type": "code",
   "execution_count": 22,
   "metadata": {},
   "outputs": [
    {
     "data": {
      "text/plain": [
       "Unnamed: 0                 216448\n",
       "year                         2013\n",
       "month                           5\n",
       "day                            25\n",
       "dep_time                   1709.0\n",
       "dep_delay                     9.0\n",
       "arr_time                   1923.0\n",
       "arr_delay                   -14.0\n",
       "carrier                        DL\n",
       "tailnum                    N666DN\n",
       "flight                       1499\n",
       "origin                        LGA\n",
       "dest                          ATL\n",
       "air_time                     65.0\n",
       "distance                      762\n",
       "hour                         17.0\n",
       "minute                        9.0\n",
       "date          2013-05-25 00:00:00\n",
       "speed_mph              703.384615\n",
       "Name: 216447, dtype: object"
      ]
     },
     "execution_count": 22,
     "metadata": {},
     "output_type": "execute_result"
    }
   ],
   "source": [
    "# Sort data or get the maximum and minimum value\n",
    "fastest_flight = flights_df.loc[flights_df['speed_mph'].idxmax()]\n",
    "fastest_flight"
   ]
  },
  {
   "cell_type": "markdown",
   "metadata": {},
   "source": [
    "The fastest flight from NYC in 2013 was flight number 1499 operated by Delta Airlines (DL), with the tail number N666DN. The flight departed from LaGuardia Airport (LGA) to Atlanta (ATL) at 5:09 pm on May 25, 2013, with an average flight speed of approximately 703.38 mph."
   ]
  },
  {
   "cell_type": "markdown",
   "metadata": {},
   "source": [
    "## Question 4\n",
    "Which flights (i.e. carrier + flight + dest) happen every day? Where do they fly to?"
   ]
  },
  {
   "cell_type": "code",
   "execution_count": 23,
   "metadata": {},
   "outputs": [],
   "source": [
    "# Your code here\n",
    "# Get the count for every day\n",
    "flight_counts = flights_df.groupby(['carrier', 'flight', 'dest']).size()"
   ]
  },
  {
   "cell_type": "code",
   "execution_count": 24,
   "metadata": {},
   "outputs": [
    {
     "data": {
      "text/plain": [
       "carrier  flight  dest\n",
       "AA       59      SFO     365\n",
       "         119     LAX     365\n",
       "         181     LAX     365\n",
       "         1357    SJU     365\n",
       "         1611    MIA     365\n",
       "B6       219     CLT     365\n",
       "         359     BUR     365\n",
       "         371     FLL     365\n",
       "         431     SRQ     365\n",
       "         703     SJU     365\n",
       "         1783    MCO     365\n",
       "DL       2159    MCO     365\n",
       "         2391    TPA     365\n",
       "EV       5712    IAD     365\n",
       "UA       15      HNL     365\n",
       "VX       251     LAS     365\n",
       "         407     LAX     365\n",
       "         413     LAX     365\n",
       "dtype: int64"
      ]
     },
     "execution_count": 24,
     "metadata": {},
     "output_type": "execute_result"
    }
   ],
   "source": [
    "# Get the flights whose count equals 365\n",
    "Everyday_flights = flight_counts[flight_counts == 365]\n",
    "Everyday_flights"
   ]
  },
  {
   "cell_type": "markdown",
   "metadata": {},
   "source": [
    "In 2013, daily flights departing from NYC included：  \n",
    "（1） AA Air Flight 59 to SFO, Flights 119 and 181 to LAX, Flight 1357 to SJU, and Flight 1611 to MIA.   \n",
    "（2）B6 Airlines flight 219 to CLT, flight 359 to BUR, flight 371 to FLL, flight 431 to SRQ, flight 703 to SJU, and flight 1783 to MCO.   \n",
    "（3）DL Airlines has flight 2159 to MCO and flight 2391 to TPA.   \n",
    "（4）EV Airlines operates flight 5712 to IAD.   \n",
    "（5）UA Airlines flight 15 to HNL.   \n",
    "（6）Finally, VX Airlines flight 251 was bound for LAS, while flights 407 and 413 were bound for LAX.   \n",
    "These flights depart from NYC every day.  "
   ]
  },
  {
   "cell_type": "markdown",
   "metadata": {},
   "source": [
    "## Question 5\n",
    "Develop one research question you can address using the NYCFlights13 dataset. Provide two visualizations to support your exploration of this question. Discuss what you find.\n"
   ]
  },
  {
   "cell_type": "markdown",
   "metadata": {},
   "source": [
    "### Research Questions：\n",
    "#### Are some airlines more prone to delays than others? If so, which airlines have the longest average delays?"
   ]
  },
  {
   "cell_type": "code",
   "execution_count": 25,
   "metadata": {},
   "outputs": [
    {
     "data": {
      "text/plain": [
       "carrier\n",
       "US     3.782418\n",
       "HA     4.900585\n",
       "AS     5.804775\n",
       "AA     8.586016\n",
       "DL     9.264505\n",
       "MQ    10.552041\n",
       "UA    12.106073\n",
       "OO    12.586207\n",
       "VX    12.869421\n",
       "B6    13.022522\n",
       "9E    16.725769\n",
       "WN    17.711744\n",
       "FL    18.726075\n",
       "YV    18.996330\n",
       "EV    19.955390\n",
       "F9    20.215543\n",
       "Name: dep_delay, dtype: float64"
      ]
     },
     "execution_count": 25,
     "metadata": {},
     "output_type": "execute_result"
    }
   ],
   "source": [
    "# Your code here\n",
    "carrier_dep_delay = flights_df.groupby('carrier')['dep_delay'].mean().sort_values()\n",
    "carrier_dep_delay"
   ]
  },
  {
   "cell_type": "code",
   "execution_count": 26,
   "metadata": {},
   "outputs": [
    {
     "data": {
      "image/png": "[encoded data removed]",
      "text/plain": [
       "<Figure size 1008x504 with 1 Axes>"
      ]
     },
     "metadata": {
      "needs_background": "light"
     },
     "output_type": "display_data"
    }
   ],
   "source": [
    "# First visualization\n",
    "# Average departure delay by carrier\n",
    "plt.figure(figsize=(14,7))\n",
    "carrier_dep_delay.plot(kind='bar', color='pink')\n",
    "plt.title('Average Departure Delay by Carrier')\n",
    "plt.ylabel('Average Departure Delay (minutes)')\n",
    "plt.xlabel('Carrier')\n",
    "plt.xticks(rotation=45)\n",
    "plt.grid(axis='y')\n",
    "plt.tight_layout()\n",
    "plt.show()"
   ]
  },
  {
   "cell_type": "code",
   "execution_count": 27,
   "metadata": {},
   "outputs": [
    {
     "data": {
      "text/plain": [
       "carrier\n",
       "AS    -9.930889\n",
       "HA    -6.915205\n",
       "AA     0.364291\n",
       "DL     1.644341\n",
       "VX     1.764464\n",
       "US     2.129595\n",
       "UA     3.558011\n",
       "9E     7.379669\n",
       "B6     9.457973\n",
       "WN     9.649120\n",
       "MQ    10.774733\n",
       "OO    11.931034\n",
       "YV    15.556985\n",
       "EV    15.796431\n",
       "FL    20.115906\n",
       "F9    21.920705\n",
       "Name: arr_delay, dtype: float64"
      ]
     },
     "execution_count": 27,
     "metadata": {},
     "output_type": "execute_result"
    }
   ],
   "source": [
    "carrier_arr_delay = flights_df.groupby('carrier')['arr_delay'].mean().sort_values()\n",
    "carrier_arr_delay"
   ]
  },
  {
   "cell_type": "code",
   "execution_count": 28,
   "metadata": {},
   "outputs": [
    {
     "data": {
      "image/png": "[encoded data removed]",
      "text/plain": [
       "<Figure size 1008x504 with 1 Axes>"
      ]
     },
     "metadata": {
      "needs_background": "light"
     },
     "output_type": "display_data"
    }
   ],
   "source": [
    "# Second visualization\n",
    "# Average arrival delay by carrier\n",
    "plt.figure(figsize=(14,7))\n",
    "carrier_arr_delay.plot(kind='bar', color='green')\n",
    "plt.title('Average Departure Delay by Carrier')\n",
    "plt.ylabel('Average Departure Delay (minutes)')\n",
    "plt.xlabel('Carrier')\n",
    "plt.xticks(rotation=45)\n",
    "plt.grid(axis='y')\n",
    "plt.tight_layout()\n",
    "plt.show()"
   ]
  },
  {
   "cell_type": "markdown",
   "metadata": {},
   "source": [
    "When examining 2013 NYC flight data, we discovered some key trends regarding departure delays and arrival delays. \n",
    "\n",
    "First, let’s look at departure delays. According to data, most airlines perform well in terms of departure delays, with the average delay time being less than 10 minutes. However, there are some airlines that perform significantly worse than others. In particular, \"F9\" (Frontier Airlines) and \"EV\" (ExpressJet Airlines) have average departure delays equal to or greater than 20 minutes.\n",
    "\n",
    "In terms of arrival delays, we observe a similar pattern to departure delays. Most airlines also perform relatively well with average arrival delays within 10 minutes. However, \"FL\" and \"F9\" perform poorly in this regard, with average arrival delays equal to or greater than 20 minutes, which is worrying. \n",
    "\n",
    "On the contrary, \"US\" (US Airways) and \"HA\" (Hawaiian Airlines) are two airlines that perform better. They perform well in terms of departure and arrival delays, with both average delay times being relatively low. There are even cases where arrive early. \n",
    "\n",
    "In summary, although most airlines' delay performance is good, two airlines, \"F9\" and \"EV\", have obvious delay problems and may need to take measures to improve their flight scheduling and management. At the same time, two airlines, \"US\" and \"HA\", performed well in terms of delays, indicating that they may have good practices and strategies in flight management."
   ]
  },
  {
   "cell_type": "markdown",
   "metadata": {},
   "source": [
    "## Question 6\n",
    "What weather conditions (weather.csv) are associated with flight delays leaving NYC? Use graphics to explore and provide an explanation."
   ]
  },
  {
   "cell_type": "code",
   "execution_count": 29,
   "metadata": {},
   "outputs": [
    {
     "data": {
      "text/html": [
       "<div>\n",
       "<style scoped>\n",
       "    .dataframe tbody tr th:only-of-type {\n",
       "        vertical-align: middle;\n",
       "    }\n",
       "\n",
       "    .dataframe tbody tr th {\n",
       "        vertical-align: top;\n",
       "    }\n",
       "\n",
       "    .dataframe thead th {\n",
       "        text-align: right;\n",
       "    }\n",
       "</style>\n",
       "<table border=\"1\" class=\"dataframe\">\n",
       "  <thead>\n",
       "    <tr style=\"text-align: right;\">\n",
       "      <th></th>\n",
       "      <th>Unnamed: 0</th>\n",
       "      <th>origin</th>\n",
       "      <th>year</th>\n",
       "      <th>month</th>\n",
       "      <th>day</th>\n",
       "      <th>hour</th>\n",
       "      <th>temp</th>\n",
       "      <th>dewp</th>\n",
       "      <th>humid</th>\n",
       "      <th>wind_dir</th>\n",
       "      <th>wind_speed</th>\n",
       "      <th>wind_gust</th>\n",
       "      <th>precip</th>\n",
       "      <th>pressure</th>\n",
       "      <th>visib</th>\n",
       "    </tr>\n",
       "  </thead>\n",
       "  <tbody>\n",
       "    <tr>\n",
       "      <th>0</th>\n",
       "      <td>1</td>\n",
       "      <td>EWR</td>\n",
       "      <td>2013</td>\n",
       "      <td>1.0</td>\n",
       "      <td>1.0</td>\n",
       "      <td>0.0</td>\n",
       "      <td>37.04</td>\n",
       "      <td>21.92</td>\n",
       "      <td>53.97</td>\n",
       "      <td>230.0</td>\n",
       "      <td>10.35702</td>\n",
       "      <td>11.918651</td>\n",
       "      <td>0.0</td>\n",
       "      <td>1013.9</td>\n",
       "      <td>10.0</td>\n",
       "    </tr>\n",
       "    <tr>\n",
       "      <th>1</th>\n",
       "      <td>2</td>\n",
       "      <td>EWR</td>\n",
       "      <td>2013</td>\n",
       "      <td>1.0</td>\n",
       "      <td>1.0</td>\n",
       "      <td>1.0</td>\n",
       "      <td>37.04</td>\n",
       "      <td>21.92</td>\n",
       "      <td>53.97</td>\n",
       "      <td>230.0</td>\n",
       "      <td>13.80936</td>\n",
       "      <td>15.891535</td>\n",
       "      <td>0.0</td>\n",
       "      <td>1013.0</td>\n",
       "      <td>10.0</td>\n",
       "    </tr>\n",
       "    <tr>\n",
       "      <th>2</th>\n",
       "      <td>3</td>\n",
       "      <td>EWR</td>\n",
       "      <td>2013</td>\n",
       "      <td>1.0</td>\n",
       "      <td>1.0</td>\n",
       "      <td>2.0</td>\n",
       "      <td>37.94</td>\n",
       "      <td>21.92</td>\n",
       "      <td>52.09</td>\n",
       "      <td>230.0</td>\n",
       "      <td>12.65858</td>\n",
       "      <td>14.567241</td>\n",
       "      <td>0.0</td>\n",
       "      <td>1012.6</td>\n",
       "      <td>10.0</td>\n",
       "    </tr>\n",
       "    <tr>\n",
       "      <th>3</th>\n",
       "      <td>4</td>\n",
       "      <td>EWR</td>\n",
       "      <td>2013</td>\n",
       "      <td>1.0</td>\n",
       "      <td>1.0</td>\n",
       "      <td>3.0</td>\n",
       "      <td>37.94</td>\n",
       "      <td>23.00</td>\n",
       "      <td>54.51</td>\n",
       "      <td>230.0</td>\n",
       "      <td>13.80936</td>\n",
       "      <td>15.891535</td>\n",
       "      <td>0.0</td>\n",
       "      <td>1012.7</td>\n",
       "      <td>10.0</td>\n",
       "    </tr>\n",
       "    <tr>\n",
       "      <th>4</th>\n",
       "      <td>5</td>\n",
       "      <td>EWR</td>\n",
       "      <td>2013</td>\n",
       "      <td>1.0</td>\n",
       "      <td>1.0</td>\n",
       "      <td>4.0</td>\n",
       "      <td>37.94</td>\n",
       "      <td>24.08</td>\n",
       "      <td>57.04</td>\n",
       "      <td>240.0</td>\n",
       "      <td>14.96014</td>\n",
       "      <td>17.215830</td>\n",
       "      <td>0.0</td>\n",
       "      <td>1012.8</td>\n",
       "      <td>10.0</td>\n",
       "    </tr>\n",
       "    <tr>\n",
       "      <th>5</th>\n",
       "      <td>6</td>\n",
       "      <td>EWR</td>\n",
       "      <td>2013</td>\n",
       "      <td>1.0</td>\n",
       "      <td>1.0</td>\n",
       "      <td>6.0</td>\n",
       "      <td>39.02</td>\n",
       "      <td>26.06</td>\n",
       "      <td>59.37</td>\n",
       "      <td>270.0</td>\n",
       "      <td>10.35702</td>\n",
       "      <td>11.918651</td>\n",
       "      <td>0.0</td>\n",
       "      <td>1012.0</td>\n",
       "      <td>10.0</td>\n",
       "    </tr>\n",
       "    <tr>\n",
       "      <th>6</th>\n",
       "      <td>7</td>\n",
       "      <td>EWR</td>\n",
       "      <td>2013</td>\n",
       "      <td>1.0</td>\n",
       "      <td>1.0</td>\n",
       "      <td>7.0</td>\n",
       "      <td>39.02</td>\n",
       "      <td>26.96</td>\n",
       "      <td>61.63</td>\n",
       "      <td>250.0</td>\n",
       "      <td>8.05546</td>\n",
       "      <td>9.270062</td>\n",
       "      <td>0.0</td>\n",
       "      <td>1012.3</td>\n",
       "      <td>10.0</td>\n",
       "    </tr>\n",
       "    <tr>\n",
       "      <th>7</th>\n",
       "      <td>8</td>\n",
       "      <td>EWR</td>\n",
       "      <td>2013</td>\n",
       "      <td>1.0</td>\n",
       "      <td>1.0</td>\n",
       "      <td>8.0</td>\n",
       "      <td>39.02</td>\n",
       "      <td>28.04</td>\n",
       "      <td>64.43</td>\n",
       "      <td>240.0</td>\n",
       "      <td>11.50780</td>\n",
       "      <td>13.242946</td>\n",
       "      <td>0.0</td>\n",
       "      <td>1012.5</td>\n",
       "      <td>10.0</td>\n",
       "    </tr>\n",
       "    <tr>\n",
       "      <th>8</th>\n",
       "      <td>9</td>\n",
       "      <td>EWR</td>\n",
       "      <td>2013</td>\n",
       "      <td>1.0</td>\n",
       "      <td>1.0</td>\n",
       "      <td>9.0</td>\n",
       "      <td>39.92</td>\n",
       "      <td>28.04</td>\n",
       "      <td>62.21</td>\n",
       "      <td>250.0</td>\n",
       "      <td>12.65858</td>\n",
       "      <td>14.567241</td>\n",
       "      <td>0.0</td>\n",
       "      <td>1012.2</td>\n",
       "      <td>10.0</td>\n",
       "    </tr>\n",
       "    <tr>\n",
       "      <th>9</th>\n",
       "      <td>10</td>\n",
       "      <td>EWR</td>\n",
       "      <td>2013</td>\n",
       "      <td>1.0</td>\n",
       "      <td>1.0</td>\n",
       "      <td>10.0</td>\n",
       "      <td>39.02</td>\n",
       "      <td>28.04</td>\n",
       "      <td>64.43</td>\n",
       "      <td>260.0</td>\n",
       "      <td>12.65858</td>\n",
       "      <td>14.567241</td>\n",
       "      <td>0.0</td>\n",
       "      <td>1011.9</td>\n",
       "      <td>10.0</td>\n",
       "    </tr>\n",
       "  </tbody>\n",
       "</table>\n",
       "</div>"
      ],
      "text/plain": [
       "   Unnamed: 0 origin  year  month  day  hour   temp   dewp  humid  wind_dir  \\\n",
       "0           1    EWR  2013    1.0  1.0   0.0  37.04  21.92  53.97     230.0   \n",
       "1           2    EWR  2013    1.0  1.0   1.0  37.04  21.92  53.97     230.0   \n",
       "2           3    EWR  2013    1.0  1.0   2.0  37.94  21.92  52.09     230.0   \n",
       "3           4    EWR  2013    1.0  1.0   3.0  37.94  23.00  54.51     230.0   \n",
       "4           5    EWR  2013    1.0  1.0   4.0  37.94  24.08  57.04     240.0   \n",
       "5           6    EWR  2013    1.0  1.0   6.0  39.02  26.06  59.37     270.0   \n",
       "6           7    EWR  2013    1.0  1.0   7.0  39.02  26.96  61.63     250.0   \n",
       "7           8    EWR  2013    1.0  1.0   8.0  39.02  28.04  64.43     240.0   \n",
       "8           9    EWR  2013    1.0  1.0   9.0  39.92  28.04  62.21     250.0   \n",
       "9          10    EWR  2013    1.0  1.0  10.0  39.02  28.04  64.43     260.0   \n",
       "\n",
       "   wind_speed  wind_gust  precip  pressure  visib  \n",
       "0    10.35702  11.918651     0.0    1013.9   10.0  \n",
       "1    13.80936  15.891535     0.0    1013.0   10.0  \n",
       "2    12.65858  14.567241     0.0    1012.6   10.0  \n",
       "3    13.80936  15.891535     0.0    1012.7   10.0  \n",
       "4    14.96014  17.215830     0.0    1012.8   10.0  \n",
       "5    10.35702  11.918651     0.0    1012.0   10.0  \n",
       "6     8.05546   9.270062     0.0    1012.3   10.0  \n",
       "7    11.50780  13.242946     0.0    1012.5   10.0  \n",
       "8    12.65858  14.567241     0.0    1012.2   10.0  \n",
       "9    12.65858  14.567241     0.0    1011.9   10.0  "
      ]
     },
     "execution_count": 29,
     "metadata": {},
     "output_type": "execute_result"
    }
   ],
   "source": [
    "# Your code here\n",
    "# Load the weather dataset\n",
    "weather_df = pd.read_csv('weather.csv')\n",
    "weather_df.head(10)"
   ]
  },
  {
   "cell_type": "code",
   "execution_count": 30,
   "metadata": {},
   "outputs": [
    {
     "name": "stdout",
     "output_type": "stream",
     "text": [
      "(8719, 15)\n",
      "Index(['Unnamed: 0', 'origin', 'year', 'month', 'day', 'hour', 'temp', 'dewp',\n",
      "       'humid', 'wind_dir', 'wind_speed', 'wind_gust', 'precip', 'pressure',\n",
      "       'visib'],\n",
      "      dtype='object')\n",
      "Unnamed: 0      int64\n",
      "origin         object\n",
      "year            int64\n",
      "month         float64\n",
      "day           float64\n",
      "hour          float64\n",
      "temp          float64\n",
      "dewp          float64\n",
      "humid         float64\n",
      "wind_dir      float64\n",
      "wind_speed    float64\n",
      "wind_gust     float64\n",
      "precip        float64\n",
      "pressure      float64\n",
      "visib         float64\n",
      "dtype: object\n"
     ]
    }
   ],
   "source": [
    "# Do some basic checks\n",
    "print (weather_df.shape)   # rows and columns\n",
    "print (weather_df.columns) # column names\n",
    "print (weather_df.dtypes)  # data types of each column"
   ]
  },
  {
   "cell_type": "code",
   "execution_count": 31,
   "metadata": {},
   "outputs": [
    {
     "data": {
      "text/html": [
       "<div>\n",
       "<style scoped>\n",
       "    .dataframe tbody tr th:only-of-type {\n",
       "        vertical-align: middle;\n",
       "    }\n",
       "\n",
       "    .dataframe tbody tr th {\n",
       "        vertical-align: top;\n",
       "    }\n",
       "\n",
       "    .dataframe thead th {\n",
       "        text-align: right;\n",
       "    }\n",
       "</style>\n",
       "<table border=\"1\" class=\"dataframe\">\n",
       "  <thead>\n",
       "    <tr style=\"text-align: right;\">\n",
       "      <th></th>\n",
       "      <th>Unnamed: 0_x</th>\n",
       "      <th>year</th>\n",
       "      <th>month</th>\n",
       "      <th>day</th>\n",
       "      <th>dep_time</th>\n",
       "      <th>dep_delay</th>\n",
       "      <th>arr_time</th>\n",
       "      <th>arr_delay</th>\n",
       "      <th>carrier</th>\n",
       "      <th>tailnum</th>\n",
       "      <th>...</th>\n",
       "      <th>Unnamed: 0_y</th>\n",
       "      <th>temp</th>\n",
       "      <th>dewp</th>\n",
       "      <th>humid</th>\n",
       "      <th>wind_dir</th>\n",
       "      <th>wind_speed</th>\n",
       "      <th>wind_gust</th>\n",
       "      <th>precip</th>\n",
       "      <th>pressure</th>\n",
       "      <th>visib</th>\n",
       "    </tr>\n",
       "  </thead>\n",
       "  <tbody>\n",
       "    <tr>\n",
       "      <th>0</th>\n",
       "      <td>20</td>\n",
       "      <td>2013</td>\n",
       "      <td>1</td>\n",
       "      <td>1</td>\n",
       "      <td>601.0</td>\n",
       "      <td>1.0</td>\n",
       "      <td>844.0</td>\n",
       "      <td>-6.0</td>\n",
       "      <td>B6</td>\n",
       "      <td>N644JB</td>\n",
       "      <td>...</td>\n",
       "      <td>6</td>\n",
       "      <td>39.02</td>\n",
       "      <td>26.06</td>\n",
       "      <td>59.37</td>\n",
       "      <td>270.0</td>\n",
       "      <td>10.35702</td>\n",
       "      <td>11.918651</td>\n",
       "      <td>0.0</td>\n",
       "      <td>1012.0</td>\n",
       "      <td>10.0</td>\n",
       "    </tr>\n",
       "    <tr>\n",
       "      <th>1</th>\n",
       "      <td>23</td>\n",
       "      <td>2013</td>\n",
       "      <td>1</td>\n",
       "      <td>1</td>\n",
       "      <td>606.0</td>\n",
       "      <td>-4.0</td>\n",
       "      <td>858.0</td>\n",
       "      <td>-12.0</td>\n",
       "      <td>AA</td>\n",
       "      <td>N633AA</td>\n",
       "      <td>...</td>\n",
       "      <td>6</td>\n",
       "      <td>39.02</td>\n",
       "      <td>26.06</td>\n",
       "      <td>59.37</td>\n",
       "      <td>270.0</td>\n",
       "      <td>10.35702</td>\n",
       "      <td>11.918651</td>\n",
       "      <td>0.0</td>\n",
       "      <td>1012.0</td>\n",
       "      <td>10.0</td>\n",
       "    </tr>\n",
       "    <tr>\n",
       "      <th>2</th>\n",
       "      <td>25</td>\n",
       "      <td>2013</td>\n",
       "      <td>1</td>\n",
       "      <td>1</td>\n",
       "      <td>607.0</td>\n",
       "      <td>0.0</td>\n",
       "      <td>858.0</td>\n",
       "      <td>-17.0</td>\n",
       "      <td>UA</td>\n",
       "      <td>N53442</td>\n",
       "      <td>...</td>\n",
       "      <td>6</td>\n",
       "      <td>39.02</td>\n",
       "      <td>26.06</td>\n",
       "      <td>59.37</td>\n",
       "      <td>270.0</td>\n",
       "      <td>10.35702</td>\n",
       "      <td>11.918651</td>\n",
       "      <td>0.0</td>\n",
       "      <td>1012.0</td>\n",
       "      <td>10.0</td>\n",
       "    </tr>\n",
       "    <tr>\n",
       "      <th>3</th>\n",
       "      <td>26</td>\n",
       "      <td>2013</td>\n",
       "      <td>1</td>\n",
       "      <td>1</td>\n",
       "      <td>608.0</td>\n",
       "      <td>8.0</td>\n",
       "      <td>807.0</td>\n",
       "      <td>32.0</td>\n",
       "      <td>MQ</td>\n",
       "      <td>N9EAMQ</td>\n",
       "      <td>...</td>\n",
       "      <td>6</td>\n",
       "      <td>39.02</td>\n",
       "      <td>26.06</td>\n",
       "      <td>59.37</td>\n",
       "      <td>270.0</td>\n",
       "      <td>10.35702</td>\n",
       "      <td>11.918651</td>\n",
       "      <td>0.0</td>\n",
       "      <td>1012.0</td>\n",
       "      <td>10.0</td>\n",
       "    </tr>\n",
       "    <tr>\n",
       "      <th>4</th>\n",
       "      <td>30</td>\n",
       "      <td>2013</td>\n",
       "      <td>1</td>\n",
       "      <td>1</td>\n",
       "      <td>615.0</td>\n",
       "      <td>0.0</td>\n",
       "      <td>833.0</td>\n",
       "      <td>-9.0</td>\n",
       "      <td>DL</td>\n",
       "      <td>N326NB</td>\n",
       "      <td>...</td>\n",
       "      <td>6</td>\n",
       "      <td>39.02</td>\n",
       "      <td>26.06</td>\n",
       "      <td>59.37</td>\n",
       "      <td>270.0</td>\n",
       "      <td>10.35702</td>\n",
       "      <td>11.918651</td>\n",
       "      <td>0.0</td>\n",
       "      <td>1012.0</td>\n",
       "      <td>10.0</td>\n",
       "    </tr>\n",
       "    <tr>\n",
       "      <th>...</th>\n",
       "      <td>...</td>\n",
       "      <td>...</td>\n",
       "      <td>...</td>\n",
       "      <td>...</td>\n",
       "      <td>...</td>\n",
       "      <td>...</td>\n",
       "      <td>...</td>\n",
       "      <td>...</td>\n",
       "      <td>...</td>\n",
       "      <td>...</td>\n",
       "      <td>...</td>\n",
       "      <td>...</td>\n",
       "      <td>...</td>\n",
       "      <td>...</td>\n",
       "      <td>...</td>\n",
       "      <td>...</td>\n",
       "      <td>...</td>\n",
       "      <td>...</td>\n",
       "      <td>...</td>\n",
       "      <td>...</td>\n",
       "      <td>...</td>\n",
       "    </tr>\n",
       "    <tr>\n",
       "      <th>117246</th>\n",
       "      <td>336753</td>\n",
       "      <td>2013</td>\n",
       "      <td>9</td>\n",
       "      <td>30</td>\n",
       "      <td>2142.0</td>\n",
       "      <td>13.0</td>\n",
       "      <td>2250.0</td>\n",
       "      <td>11.0</td>\n",
       "      <td>EV</td>\n",
       "      <td>N12957</td>\n",
       "      <td>...</td>\n",
       "      <td>6538</td>\n",
       "      <td>69.98</td>\n",
       "      <td>53.06</td>\n",
       "      <td>54.94</td>\n",
       "      <td>170.0</td>\n",
       "      <td>5.75390</td>\n",
       "      <td>6.621473</td>\n",
       "      <td>0.0</td>\n",
       "      <td>1015.0</td>\n",
       "      <td>10.0</td>\n",
       "    </tr>\n",
       "    <tr>\n",
       "      <th>117247</th>\n",
       "      <td>336756</td>\n",
       "      <td>2013</td>\n",
       "      <td>9</td>\n",
       "      <td>30</td>\n",
       "      <td>2149.0</td>\n",
       "      <td>-7.0</td>\n",
       "      <td>2245.0</td>\n",
       "      <td>-23.0</td>\n",
       "      <td>UA</td>\n",
       "      <td>N813UA</td>\n",
       "      <td>...</td>\n",
       "      <td>6538</td>\n",
       "      <td>69.98</td>\n",
       "      <td>53.06</td>\n",
       "      <td>54.94</td>\n",
       "      <td>170.0</td>\n",
       "      <td>5.75390</td>\n",
       "      <td>6.621473</td>\n",
       "      <td>0.0</td>\n",
       "      <td>1015.0</td>\n",
       "      <td>10.0</td>\n",
       "    </tr>\n",
       "    <tr>\n",
       "      <th>117248</th>\n",
       "      <td>336757</td>\n",
       "      <td>2013</td>\n",
       "      <td>9</td>\n",
       "      <td>30</td>\n",
       "      <td>2150.0</td>\n",
       "      <td>-9.0</td>\n",
       "      <td>2250.0</td>\n",
       "      <td>-16.0</td>\n",
       "      <td>EV</td>\n",
       "      <td>N10575</td>\n",
       "      <td>...</td>\n",
       "      <td>6538</td>\n",
       "      <td>69.98</td>\n",
       "      <td>53.06</td>\n",
       "      <td>54.94</td>\n",
       "      <td>170.0</td>\n",
       "      <td>5.75390</td>\n",
       "      <td>6.621473</td>\n",
       "      <td>0.0</td>\n",
       "      <td>1015.0</td>\n",
       "      <td>10.0</td>\n",
       "    </tr>\n",
       "    <tr>\n",
       "      <th>117249</th>\n",
       "      <td>336761</td>\n",
       "      <td>2013</td>\n",
       "      <td>9</td>\n",
       "      <td>30</td>\n",
       "      <td>2211.0</td>\n",
       "      <td>72.0</td>\n",
       "      <td>2339.0</td>\n",
       "      <td>57.0</td>\n",
       "      <td>EV</td>\n",
       "      <td>N12145</td>\n",
       "      <td>...</td>\n",
       "      <td>6539</td>\n",
       "      <td>68.00</td>\n",
       "      <td>53.06</td>\n",
       "      <td>58.80</td>\n",
       "      <td>150.0</td>\n",
       "      <td>5.75390</td>\n",
       "      <td>6.621473</td>\n",
       "      <td>0.0</td>\n",
       "      <td>1015.4</td>\n",
       "      <td>10.0</td>\n",
       "    </tr>\n",
       "    <tr>\n",
       "      <th>117250</th>\n",
       "      <td>336763</td>\n",
       "      <td>2013</td>\n",
       "      <td>9</td>\n",
       "      <td>30</td>\n",
       "      <td>2233.0</td>\n",
       "      <td>80.0</td>\n",
       "      <td>112.0</td>\n",
       "      <td>42.0</td>\n",
       "      <td>UA</td>\n",
       "      <td>N578UA</td>\n",
       "      <td>...</td>\n",
       "      <td>6539</td>\n",
       "      <td>68.00</td>\n",
       "      <td>53.06</td>\n",
       "      <td>58.80</td>\n",
       "      <td>150.0</td>\n",
       "      <td>5.75390</td>\n",
       "      <td>6.621473</td>\n",
       "      <td>0.0</td>\n",
       "      <td>1015.4</td>\n",
       "      <td>10.0</td>\n",
       "    </tr>\n",
       "  </tbody>\n",
       "</table>\n",
       "<p>117251 rows × 29 columns</p>\n",
       "</div>"
      ],
      "text/plain": [
       "        Unnamed: 0_x  year  month  day  dep_time  dep_delay  arr_time  \\\n",
       "0                 20  2013      1    1     601.0        1.0     844.0   \n",
       "1                 23  2013      1    1     606.0       -4.0     858.0   \n",
       "2                 25  2013      1    1     607.0        0.0     858.0   \n",
       "3                 26  2013      1    1     608.0        8.0     807.0   \n",
       "4                 30  2013      1    1     615.0        0.0     833.0   \n",
       "...              ...   ...    ...  ...       ...        ...       ...   \n",
       "117246        336753  2013      9   30    2142.0       13.0    2250.0   \n",
       "117247        336756  2013      9   30    2149.0       -7.0    2245.0   \n",
       "117248        336757  2013      9   30    2150.0       -9.0    2250.0   \n",
       "117249        336761  2013      9   30    2211.0       72.0    2339.0   \n",
       "117250        336763  2013      9   30    2233.0       80.0     112.0   \n",
       "\n",
       "        arr_delay carrier tailnum  ...  Unnamed: 0_y   temp   dewp  humid  \\\n",
       "0            -6.0      B6  N644JB  ...             6  39.02  26.06  59.37   \n",
       "1           -12.0      AA  N633AA  ...             6  39.02  26.06  59.37   \n",
       "2           -17.0      UA  N53442  ...             6  39.02  26.06  59.37   \n",
       "3            32.0      MQ  N9EAMQ  ...             6  39.02  26.06  59.37   \n",
       "4            -9.0      DL  N326NB  ...             6  39.02  26.06  59.37   \n",
       "...           ...     ...     ...  ...           ...    ...    ...    ...   \n",
       "117246       11.0      EV  N12957  ...          6538  69.98  53.06  54.94   \n",
       "117247      -23.0      UA  N813UA  ...          6538  69.98  53.06  54.94   \n",
       "117248      -16.0      EV  N10575  ...          6538  69.98  53.06  54.94   \n",
       "117249       57.0      EV  N12145  ...          6539  68.00  53.06  58.80   \n",
       "117250       42.0      UA  N578UA  ...          6539  68.00  53.06  58.80   \n",
       "\n",
       "        wind_dir  wind_speed  wind_gust precip  pressure  visib  \n",
       "0          270.0    10.35702  11.918651    0.0    1012.0   10.0  \n",
       "1          270.0    10.35702  11.918651    0.0    1012.0   10.0  \n",
       "2          270.0    10.35702  11.918651    0.0    1012.0   10.0  \n",
       "3          270.0    10.35702  11.918651    0.0    1012.0   10.0  \n",
       "4          270.0    10.35702  11.918651    0.0    1012.0   10.0  \n",
       "...          ...         ...        ...    ...       ...    ...  \n",
       "117246     170.0     5.75390   6.621473    0.0    1015.0   10.0  \n",
       "117247     170.0     5.75390   6.621473    0.0    1015.0   10.0  \n",
       "117248     170.0     5.75390   6.621473    0.0    1015.0   10.0  \n",
       "117249     150.0     5.75390   6.621473    0.0    1015.4   10.0  \n",
       "117250     150.0     5.75390   6.621473    0.0    1015.4   10.0  \n",
       "\n",
       "[117251 rows x 29 columns]"
      ]
     },
     "execution_count": 31,
     "metadata": {},
     "output_type": "execute_result"
    }
   ],
   "source": [
    "# Merge data\n",
    "merged_data = pd.merge(flights_df, weather_df, on=['year', 'month', 'day', 'hour', 'origin'], how ='inner')\n",
    "merged_data"
   ]
  },
  {
   "cell_type": "code",
   "execution_count": 32,
   "metadata": {},
   "outputs": [],
   "source": [
    "import seaborn as sns"
   ]
  },
  {
   "cell_type": "code",
   "execution_count": 33,
   "metadata": {},
   "outputs": [],
   "source": [
    "correlation_matrix = merged_data[['temp', 'dewp', 'humid', 'wind_dir', 'wind_speed', 'wind_gust', \n",
    "                                  'precip', 'pressure', 'visib', 'dep_delay']].corr()"
   ]
  },
  {
   "cell_type": "code",
   "execution_count": 34,
   "metadata": {},
   "outputs": [
    {
     "data": {
      "image/png": "[encoded data removed]",
      "text/plain": [
       "<Figure size 864x576 with 2 Axes>"
      ]
     },
     "metadata": {},
     "output_type": "display_data"
    }
   ],
   "source": [
    "# visualization in heat map\n",
    "sns.set_theme(style=\"whitegrid\")\n",
    "plt.figure(figsize=(12, 8))\n",
    "sns.heatmap(correlation_matrix, annot=True, cmap='coolwarm', linewidths=0.5)\n",
    "plt.title('Correlation Heatmap of Weather Conditions and Departure Delay')\n",
    "plt.show()"
   ]
  },
  {
   "cell_type": "markdown",
   "metadata": {},
   "source": [
    "Temperature (temp): The correlation coefficient between temperature and departure delay (dep_delay) is 0.079, which means there is a slight positive correlation between temperature and departure delay. This could be because on days with extreme heat, airports may need to de-ice aircraft, or aircraft may need longer runways to take off, potentially causing delays.\n",
    "\n",
    "Dew point (dewp): The correlation coefficient between dew point and departure delay is 0.071, which is also a slightly positive correlation. A higher dew point may mean there is more moisture in the air, which may affect aircraft performance.\n",
    "\n",
    "Humidity (humid): The correlation coefficient between humidity and departure delay is 0.013, which is a very weak positive correlation, indicating that there is almost no direct relationship between humidity and departure delay.\n",
    "\n",
    "Wind direction (wind_dir): The correlation coefficient between wind direction and departure delay is -0.00027, which shows that the relationship between wind direction and delay is very weak.\n",
    "\n",
    "Wind speed (wind_speed) and wind speed gust (wind_gust): The correlation coefficient of these two variables with departure delay is 0.027 respectively, which means that the relationship between wind speed and wind speed gust and delay is very weak.\n",
    "\n",
    "Precipitation (precip): The correlation coefficient between precipitation and departure delay is 0.064, indicating a slight positive correlation. This means that as precipitation increases, the likelihood of flight delays also increases slightly. Rain or snow can cause runways to become slippery, affecting aircraft takeoffs and landings.\n",
    "\n",
    "Pressure and visibility: The correlation coefficient of these two variables with departure delay is -0.11 respectively, which is a moderate negative correlation. When air pressure is low or visibility is poor, aircraft may need to wait for better conditions before they can take off and land safely."
   ]
  }
 ],
 "metadata": {
  "kernelspec": {
   "display_name": "Python 3 (ipykernel)",
   "language": "python",
   "name": "python3"
  },
  "language_info": {
   "codemirror_mode": {
    "name": "ipython",
    "version": 3
   },
   "file_extension": ".py",
   "mimetype": "text/x-python",
   "name": "python",
   "nbconvert_exporter": "python",
   "pygments_lexer": "ipython3",
   "version": "3.9.12"
  }
 },
 "nbformat": 4,
 "nbformat_minor": 4
}
